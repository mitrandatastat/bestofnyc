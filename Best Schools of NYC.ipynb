{
 "cells": [
  {
   "cell_type": "markdown",
   "metadata": {},
   "source": [
    "### Read in the data"
   ]
  },
  {
   "cell_type": "code",
   "execution_count": 1,
   "metadata": {},
   "outputs": [],
   "source": [
    "import pandas\n",
    "import numpy\n",
    "import re\n",
    "import random \n",
    "import matplotlib.pyplot as plt\n",
    "import matplotlib.colors as colors\n",
    "from mpl_toolkits.basemap import Basemap\n",
    "%matplotlib inline \n",
    "\n",
    "data_files = [\n",
    "    \"ap_2010.csv\",\n",
    "    \"class_size.csv\",\n",
    "    \"demographics.csv\",\n",
    "    \"graduation.csv\",\n",
    "    \"hs_directory.csv\",\n",
    "    \"sat_results.csv\"\n",
    "]\n",
    "\n",
    "data = {}\n",
    "\n",
    "for f in data_files:\n",
    "    d = pandas.read_csv(\"databank/{0}\".format(f))\n",
    "    data[f.replace(\".csv\", \"\")] = d"
   ]
  },
  {
   "cell_type": "markdown",
   "metadata": {},
   "source": [
    "### Read in the surveys"
   ]
  },
  {
   "cell_type": "code",
   "execution_count": 2,
   "metadata": {},
   "outputs": [
    {
     "name": "stdout",
     "output_type": "stream",
     "text": [
      "      DBN  rr_s  rr_t  rr_p    N_s   N_t    N_p  saf_p_11  com_p_11  eng_p_11  \\\n",
      "0  01M015   NaN    88    60    NaN  22.0   90.0       8.5       7.6       7.5   \n",
      "1  01M019   NaN   100    60    NaN  34.0  161.0       8.4       7.6       7.6   \n",
      "2  01M020   NaN    88    73    NaN  42.0  367.0       8.9       8.3       8.3   \n",
      "3  01M034  89.0    73    50  145.0  29.0  151.0       8.8       8.2       8.0   \n",
      "4  01M063   NaN   100    60    NaN  23.0   90.0       8.7       7.9       8.1   \n",
      "\n",
      "      ...      eng_t_10  aca_t_11  saf_s_11  com_s_11  eng_s_11  aca_s_11  \\\n",
      "0     ...           NaN       7.9       NaN       NaN       NaN       NaN   \n",
      "1     ...           NaN       9.1       NaN       NaN       NaN       NaN   \n",
      "2     ...           NaN       7.5       NaN       NaN       NaN       NaN   \n",
      "3     ...           NaN       7.8       6.2       5.9       6.5       7.4   \n",
      "4     ...           NaN       8.1       NaN       NaN       NaN       NaN   \n",
      "\n",
      "   saf_tot_11  com_tot_11  eng_tot_11  aca_tot_11  \n",
      "0         8.0         7.7         7.5         7.9  \n",
      "1         8.5         8.1         8.2         8.4  \n",
      "2         8.2         7.3         7.5         8.0  \n",
      "3         7.3         6.7         7.1         7.9  \n",
      "4         8.5         7.6         7.9         8.0  \n",
      "\n",
      "[5 rows x 23 columns]\n"
     ]
    },
    {
     "data": {
      "text/plain": [
       "(1702, 23)"
      ]
     },
     "execution_count": 2,
     "metadata": {},
     "output_type": "execute_result"
    }
   ],
   "source": [
    "all_survey = pandas.read_csv(\"databank/survey_all.txt\", delimiter=\"\\t\", encoding='windows-1252')\n",
    "d75_survey = pandas.read_csv(\"databank/survey_d75.txt\", delimiter=\"\\t\", encoding='windows-1252')\n",
    "\n",
    "# Combine two data frames by rows\n",
    "survey = pandas.concat([all_survey, d75_survey], axis=0)\n",
    "\n",
    "# Change the column head to align with other data frame\n",
    "survey[\"DBN\"] = survey[\"dbn\"]\n",
    "\n",
    "# Identify and make a feature list of our interest\n",
    "survey_fields = [\n",
    "    \"DBN\", \n",
    "    \"rr_s\", \n",
    "    \"rr_t\", \n",
    "    \"rr_p\", \n",
    "    \"N_s\", \n",
    "    \"N_t\", \n",
    "    \"N_p\", \n",
    "    \"saf_p_11\", \n",
    "    \"com_p_11\", \n",
    "    \"eng_p_11\", \n",
    "    \"aca_p_11\", \n",
    "    \"saf_t_11\", \n",
    "    \"com_t_11\", \n",
    "    \"eng_t_10\", \n",
    "    \"aca_t_11\", \n",
    "    \"saf_s_11\", \n",
    "    \"com_s_11\", \n",
    "    \"eng_s_11\", \n",
    "    \"aca_s_11\", \n",
    "    \"saf_tot_11\", \n",
    "    \"com_tot_11\", \n",
    "    \"eng_tot_11\", \n",
    "    \"aca_tot_11\",\n",
    "]\n",
    "survey = survey.reindex(survey_fields, axis=1)\n",
    "data[\"survey\"] = survey\n",
    "\n",
    "# Print results for verification\n",
    "print(data['survey'].head(5))\n",
    "data['survey'].shape"
   ]
  },
  {
   "cell_type": "markdown",
   "metadata": {},
   "source": [
    "### Add DBN columns"
   ]
  },
  {
   "cell_type": "code",
   "execution_count": 3,
   "metadata": {},
   "outputs": [
    {
     "data": {
      "text/plain": [
       "0    01M015\n",
       "1    01M015\n",
       "2    01M015\n",
       "3    01M015\n",
       "4    01M015\n",
       "Name: DBN, dtype: object"
      ]
     },
     "execution_count": 3,
     "metadata": {},
     "output_type": "execute_result"
    }
   ],
   "source": [
    "# Change the column head to align with other data frame\n",
    "data[\"hs_directory\"][\"DBN\"] = data[\"hs_directory\"][\"dbn\"]\n",
    "\n",
    "# Set uniform field length to develop same size DBN value in the data frame\n",
    "def pad_csd(num):\n",
    "    string_representation = str(num)\n",
    "    if len(string_representation) > 1:\n",
    "        return string_representation\n",
    "    else:\n",
    "        return \"0\" + string_representation\n",
    "\n",
    "# Call function to set same size of  DBN prefix\n",
    "data[\"class_size\"][\"padded_csd\"] = data[\"class_size\"][\"CSD\"].apply(pad_csd)\n",
    "\n",
    "# Generate DBN field by combining two columns \n",
    "data[\"class_size\"][\"DBN\"] = data[\"class_size\"][\"padded_csd\"] + data[\"class_size\"][\"SCHOOL CODE\"]\n",
    "\n",
    "# Print results for verification\n",
    "data[\"class_size\"][\"DBN\"].iloc[0:5]"
   ]
  },
  {
   "cell_type": "markdown",
   "metadata": {},
   "source": [
    "### Convert columns to numeric"
   ]
  },
  {
   "cell_type": "code",
   "execution_count": 4,
   "metadata": {},
   "outputs": [
    {
     "data": {
      "text/plain": [
       "0    1122.0\n",
       "1    1172.0\n",
       "2    1149.0\n",
       "3    1174.0\n",
       "4    1207.0\n",
       "Name: sat_score, dtype: float64"
      ]
     },
     "execution_count": 4,
     "metadata": {},
     "output_type": "execute_result"
    }
   ],
   "source": [
    "# List of useful columns from the sat_result data frame \n",
    "cols = ['SAT Math Avg. Score', 'SAT Critical Reading Avg. Score', 'SAT Writing Avg. Score']\n",
    "\n",
    "# Convert the string data into numeric form, transfor errors into null\n",
    "for c in cols:\n",
    "    data[\"sat_results\"][c] = pandas.to_numeric(data[\"sat_results\"][c], errors=\"coerce\")\n",
    "\n",
    "# Combining three column valus into one and store it into a new column\n",
    "data['sat_results']['sat_score'] = data['sat_results'][cols[0]] + data['sat_results'][cols[1]] + data['sat_results'][cols[2]]\n",
    "\n",
    "# Display results for verification\n",
    "data['sat_results']['sat_score'].iloc[0:5]"
   ]
  },
  {
   "cell_type": "markdown",
   "metadata": {},
   "source": [
    "### Extract Latitude and Longiude from the Data"
   ]
  },
  {
   "cell_type": "code",
   "execution_count": 5,
   "metadata": {},
   "outputs": [
    {
     "data": {
      "text/html": [
       "<div>\n",
       "<style scoped>\n",
       "    .dataframe tbody tr th:only-of-type {\n",
       "        vertical-align: middle;\n",
       "    }\n",
       "\n",
       "    .dataframe tbody tr th {\n",
       "        vertical-align: top;\n",
       "    }\n",
       "\n",
       "    .dataframe thead th {\n",
       "        text-align: right;\n",
       "    }\n",
       "</style>\n",
       "<table border=\"1\" class=\"dataframe\">\n",
       "  <thead>\n",
       "    <tr style=\"text-align: right;\">\n",
       "      <th></th>\n",
       "      <th>dbn</th>\n",
       "      <th>school_name</th>\n",
       "      <th>boro</th>\n",
       "      <th>building_code</th>\n",
       "      <th>phone_number</th>\n",
       "      <th>fax_number</th>\n",
       "      <th>grade_span_min</th>\n",
       "      <th>grade_span_max</th>\n",
       "      <th>expgrade_span_min</th>\n",
       "      <th>expgrade_span_max</th>\n",
       "      <th>...</th>\n",
       "      <th>priority05</th>\n",
       "      <th>priority06</th>\n",
       "      <th>priority07</th>\n",
       "      <th>priority08</th>\n",
       "      <th>priority09</th>\n",
       "      <th>priority10</th>\n",
       "      <th>Location 1</th>\n",
       "      <th>DBN</th>\n",
       "      <th>lat</th>\n",
       "      <th>lon</th>\n",
       "    </tr>\n",
       "  </thead>\n",
       "  <tbody>\n",
       "    <tr>\n",
       "      <th>0</th>\n",
       "      <td>17K548</td>\n",
       "      <td>Brooklyn School for Music &amp; Theatre</td>\n",
       "      <td>Brooklyn</td>\n",
       "      <td>K440</td>\n",
       "      <td>718-230-6250</td>\n",
       "      <td>718-230-6262</td>\n",
       "      <td>9</td>\n",
       "      <td>12</td>\n",
       "      <td>NaN</td>\n",
       "      <td>NaN</td>\n",
       "      <td>...</td>\n",
       "      <td>NaN</td>\n",
       "      <td>NaN</td>\n",
       "      <td>NaN</td>\n",
       "      <td>NaN</td>\n",
       "      <td>NaN</td>\n",
       "      <td>NaN</td>\n",
       "      <td>883 Classon Avenue\\nBrooklyn, NY 11225\\n(40.67...</td>\n",
       "      <td>17K548</td>\n",
       "      <td>40.670299</td>\n",
       "      <td>-73.961648</td>\n",
       "    </tr>\n",
       "    <tr>\n",
       "      <th>1</th>\n",
       "      <td>09X543</td>\n",
       "      <td>High School for Violin and Dance</td>\n",
       "      <td>Bronx</td>\n",
       "      <td>X400</td>\n",
       "      <td>718-842-0687</td>\n",
       "      <td>718-589-9849</td>\n",
       "      <td>9</td>\n",
       "      <td>12</td>\n",
       "      <td>NaN</td>\n",
       "      <td>NaN</td>\n",
       "      <td>...</td>\n",
       "      <td>NaN</td>\n",
       "      <td>NaN</td>\n",
       "      <td>NaN</td>\n",
       "      <td>NaN</td>\n",
       "      <td>NaN</td>\n",
       "      <td>NaN</td>\n",
       "      <td>1110 Boston Road\\nBronx, NY 10456\\n(40.8276026...</td>\n",
       "      <td>09X543</td>\n",
       "      <td>40.827603</td>\n",
       "      <td>-73.904475</td>\n",
       "    </tr>\n",
       "    <tr>\n",
       "      <th>2</th>\n",
       "      <td>09X327</td>\n",
       "      <td>Comprehensive Model School Project M.S. 327</td>\n",
       "      <td>Bronx</td>\n",
       "      <td>X240</td>\n",
       "      <td>718-294-8111</td>\n",
       "      <td>718-294-8109</td>\n",
       "      <td>6</td>\n",
       "      <td>12</td>\n",
       "      <td>NaN</td>\n",
       "      <td>NaN</td>\n",
       "      <td>...</td>\n",
       "      <td>Then to New York City residents</td>\n",
       "      <td>NaN</td>\n",
       "      <td>NaN</td>\n",
       "      <td>NaN</td>\n",
       "      <td>NaN</td>\n",
       "      <td>NaN</td>\n",
       "      <td>1501 Jerome Avenue\\nBronx, NY 10452\\n(40.84241...</td>\n",
       "      <td>09X327</td>\n",
       "      <td>40.842414</td>\n",
       "      <td>-73.916162</td>\n",
       "    </tr>\n",
       "    <tr>\n",
       "      <th>3</th>\n",
       "      <td>02M280</td>\n",
       "      <td>Manhattan Early College School for Advertising</td>\n",
       "      <td>Manhattan</td>\n",
       "      <td>M520</td>\n",
       "      <td>718-935-3477</td>\n",
       "      <td>NaN</td>\n",
       "      <td>9</td>\n",
       "      <td>10</td>\n",
       "      <td>9</td>\n",
       "      <td>14.0</td>\n",
       "      <td>...</td>\n",
       "      <td>NaN</td>\n",
       "      <td>NaN</td>\n",
       "      <td>NaN</td>\n",
       "      <td>NaN</td>\n",
       "      <td>NaN</td>\n",
       "      <td>NaN</td>\n",
       "      <td>411 Pearl Street\\nNew York, NY 10038\\n(40.7106...</td>\n",
       "      <td>02M280</td>\n",
       "      <td>40.710679</td>\n",
       "      <td>-74.000807</td>\n",
       "    </tr>\n",
       "    <tr>\n",
       "      <th>4</th>\n",
       "      <td>28Q680</td>\n",
       "      <td>Queens Gateway to Health Sciences Secondary Sc...</td>\n",
       "      <td>Queens</td>\n",
       "      <td>Q695</td>\n",
       "      <td>718-969-3155</td>\n",
       "      <td>718-969-3552</td>\n",
       "      <td>6</td>\n",
       "      <td>12</td>\n",
       "      <td>NaN</td>\n",
       "      <td>NaN</td>\n",
       "      <td>...</td>\n",
       "      <td>NaN</td>\n",
       "      <td>NaN</td>\n",
       "      <td>NaN</td>\n",
       "      <td>NaN</td>\n",
       "      <td>NaN</td>\n",
       "      <td>NaN</td>\n",
       "      <td>160-20 Goethals Avenue\\nJamaica, NY 11432\\n(40...</td>\n",
       "      <td>28Q680</td>\n",
       "      <td>40.718810</td>\n",
       "      <td>-73.806500</td>\n",
       "    </tr>\n",
       "  </tbody>\n",
       "</table>\n",
       "<p>5 rows × 61 columns</p>\n",
       "</div>"
      ],
      "text/plain": [
       "      dbn                                        school_name       boro  \\\n",
       "0  17K548                Brooklyn School for Music & Theatre   Brooklyn   \n",
       "1  09X543                   High School for Violin and Dance      Bronx   \n",
       "2  09X327        Comprehensive Model School Project M.S. 327      Bronx   \n",
       "3  02M280     Manhattan Early College School for Advertising  Manhattan   \n",
       "4  28Q680  Queens Gateway to Health Sciences Secondary Sc...     Queens   \n",
       "\n",
       "  building_code    phone_number    fax_number grade_span_min  grade_span_max  \\\n",
       "0          K440    718-230-6250  718-230-6262              9              12   \n",
       "1          X400    718-842-0687  718-589-9849              9              12   \n",
       "2          X240    718-294-8111  718-294-8109              6              12   \n",
       "3          M520  718-935-3477             NaN              9              10   \n",
       "4          Q695    718-969-3155  718-969-3552              6              12   \n",
       "\n",
       "  expgrade_span_min  expgrade_span_max    ...      \\\n",
       "0               NaN                NaN    ...       \n",
       "1               NaN                NaN    ...       \n",
       "2               NaN                NaN    ...       \n",
       "3                 9               14.0    ...       \n",
       "4               NaN                NaN    ...       \n",
       "\n",
       "                        priority05 priority06 priority07 priority08  \\\n",
       "0                              NaN        NaN        NaN        NaN   \n",
       "1                              NaN        NaN        NaN        NaN   \n",
       "2  Then to New York City residents        NaN        NaN        NaN   \n",
       "3                              NaN        NaN        NaN        NaN   \n",
       "4                              NaN        NaN        NaN        NaN   \n",
       "\n",
       "  priority09  priority10                                         Location 1  \\\n",
       "0        NaN         NaN  883 Classon Avenue\\nBrooklyn, NY 11225\\n(40.67...   \n",
       "1        NaN         NaN  1110 Boston Road\\nBronx, NY 10456\\n(40.8276026...   \n",
       "2        NaN         NaN  1501 Jerome Avenue\\nBronx, NY 10452\\n(40.84241...   \n",
       "3        NaN         NaN  411 Pearl Street\\nNew York, NY 10038\\n(40.7106...   \n",
       "4        NaN         NaN  160-20 Goethals Avenue\\nJamaica, NY 11432\\n(40...   \n",
       "\n",
       "      DBN        lat        lon  \n",
       "0  17K548  40.670299 -73.961648  \n",
       "1  09X543  40.827603 -73.904475  \n",
       "2  09X327  40.842414 -73.916162  \n",
       "3  02M280  40.710679 -74.000807  \n",
       "4  28Q680  40.718810 -73.806500  \n",
       "\n",
       "[5 rows x 61 columns]"
      ]
     },
     "execution_count": 5,
     "metadata": {},
     "output_type": "execute_result"
    }
   ],
   "source": [
    "# Function to extract latitude from the given string\n",
    "def find_lat(loc):\n",
    "    coords = re.findall(\"\\(.+, .+\\)\", loc)\n",
    "    lat = coords[0].split(\",\")[0].replace(\"(\", \"\")\n",
    "    return lat\n",
    "\n",
    "# Function to extract longitude from the given string\n",
    "def find_lon(loc):\n",
    "    coords = re.findall(\"\\(.+, .+\\)\", loc)\n",
    "    lon = coords[0].split(\",\")[1].replace(\")\", \"\").strip()\n",
    "    return lon\n",
    "\n",
    "# Extract latitude and longitude from the column at store them in new columns\n",
    "data[\"hs_directory\"][\"lat\"] = data[\"hs_directory\"][\"Location 1\"].apply(find_lat)\n",
    "data[\"hs_directory\"][\"lon\"] = data[\"hs_directory\"][\"Location 1\"].apply(find_lon)\n",
    "\n",
    "# Convert the extrated latitude and longitude into numeric form, transform errors into null\n",
    "data[\"hs_directory\"][\"lat\"] = pandas.to_numeric(data[\"hs_directory\"][\"lat\"], errors=\"coerce\")\n",
    "data[\"hs_directory\"][\"lon\"] = pandas.to_numeric(data[\"hs_directory\"][\"lon\"], errors=\"coerce\")\n",
    "\n",
    "# Print results for verification\n",
    "data['hs_directory'].head(5)"
   ]
  },
  {
   "cell_type": "markdown",
   "metadata": {},
   "source": [
    "### Condense Datasets"
   ]
  },
  {
   "cell_type": "markdown",
   "metadata": {},
   "source": [
    "#### Data frame 'class_size'"
   ]
  },
  {
   "cell_type": "code",
   "execution_count": 6,
   "metadata": {},
   "outputs": [
    {
     "name": "stdout",
     "output_type": "stream",
     "text": [
      "    GRADE  PROGRAM TYPE\n",
      "225  09-12       GEN ED\n",
      "226  09-12       GEN ED\n",
      "227  09-12       GEN ED\n",
      "228  09-12       GEN ED\n",
      "229  09-12       GEN ED\n"
     ]
    },
    {
     "data": {
      "text/html": [
       "<div>\n",
       "<style scoped>\n",
       "    .dataframe tbody tr th:only-of-type {\n",
       "        vertical-align: middle;\n",
       "    }\n",
       "\n",
       "    .dataframe tbody tr th {\n",
       "        vertical-align: top;\n",
       "    }\n",
       "\n",
       "    .dataframe thead th {\n",
       "        text-align: right;\n",
       "    }\n",
       "</style>\n",
       "<table border=\"1\" class=\"dataframe\">\n",
       "  <thead>\n",
       "    <tr style=\"text-align: right;\">\n",
       "      <th></th>\n",
       "      <th>DBN</th>\n",
       "      <th>CSD</th>\n",
       "      <th>NUMBER OF STUDENTS / SEATS FILLED</th>\n",
       "      <th>NUMBER OF SECTIONS</th>\n",
       "      <th>AVERAGE CLASS SIZE</th>\n",
       "      <th>SIZE OF SMALLEST CLASS</th>\n",
       "      <th>SIZE OF LARGEST CLASS</th>\n",
       "      <th>SCHOOLWIDE PUPIL-TEACHER RATIO</th>\n",
       "    </tr>\n",
       "  </thead>\n",
       "  <tbody>\n",
       "    <tr>\n",
       "      <th>0</th>\n",
       "      <td>01M292</td>\n",
       "      <td>1</td>\n",
       "      <td>88.0000</td>\n",
       "      <td>4.000000</td>\n",
       "      <td>22.564286</td>\n",
       "      <td>18.50</td>\n",
       "      <td>26.571429</td>\n",
       "      <td>NaN</td>\n",
       "    </tr>\n",
       "    <tr>\n",
       "      <th>1</th>\n",
       "      <td>01M332</td>\n",
       "      <td>1</td>\n",
       "      <td>46.0000</td>\n",
       "      <td>2.000000</td>\n",
       "      <td>22.000000</td>\n",
       "      <td>21.00</td>\n",
       "      <td>23.500000</td>\n",
       "      <td>NaN</td>\n",
       "    </tr>\n",
       "    <tr>\n",
       "      <th>2</th>\n",
       "      <td>01M378</td>\n",
       "      <td>1</td>\n",
       "      <td>33.0000</td>\n",
       "      <td>1.000000</td>\n",
       "      <td>33.000000</td>\n",
       "      <td>33.00</td>\n",
       "      <td>33.000000</td>\n",
       "      <td>NaN</td>\n",
       "    </tr>\n",
       "    <tr>\n",
       "      <th>3</th>\n",
       "      <td>01M448</td>\n",
       "      <td>1</td>\n",
       "      <td>105.6875</td>\n",
       "      <td>4.750000</td>\n",
       "      <td>22.231250</td>\n",
       "      <td>18.25</td>\n",
       "      <td>27.062500</td>\n",
       "      <td>NaN</td>\n",
       "    </tr>\n",
       "    <tr>\n",
       "      <th>4</th>\n",
       "      <td>01M450</td>\n",
       "      <td>1</td>\n",
       "      <td>57.6000</td>\n",
       "      <td>2.733333</td>\n",
       "      <td>21.200000</td>\n",
       "      <td>19.40</td>\n",
       "      <td>22.866667</td>\n",
       "      <td>NaN</td>\n",
       "    </tr>\n",
       "  </tbody>\n",
       "</table>\n",
       "</div>"
      ],
      "text/plain": [
       "      DBN  CSD  NUMBER OF STUDENTS / SEATS FILLED  NUMBER OF SECTIONS  \\\n",
       "0  01M292    1                            88.0000            4.000000   \n",
       "1  01M332    1                            46.0000            2.000000   \n",
       "2  01M378    1                            33.0000            1.000000   \n",
       "3  01M448    1                           105.6875            4.750000   \n",
       "4  01M450    1                            57.6000            2.733333   \n",
       "\n",
       "   AVERAGE CLASS SIZE  SIZE OF SMALLEST CLASS  SIZE OF LARGEST CLASS  \\\n",
       "0           22.564286                   18.50              26.571429   \n",
       "1           22.000000                   21.00              23.500000   \n",
       "2           33.000000                   33.00              33.000000   \n",
       "3           22.231250                   18.25              27.062500   \n",
       "4           21.200000                   19.40              22.866667   \n",
       "\n",
       "   SCHOOLWIDE PUPIL-TEACHER RATIO  \n",
       "0                             NaN  \n",
       "1                             NaN  \n",
       "2                             NaN  \n",
       "3                             NaN  \n",
       "4                             NaN  "
      ]
     },
     "execution_count": 6,
     "metadata": {},
     "output_type": "execute_result"
    }
   ],
   "source": [
    "class_size = data[\"class_size\"]\n",
    "\n",
    "# Segregate the data frame from high school students under general education category\n",
    "class_size = class_size[class_size[\"GRADE \"] == \"09-12\"]\n",
    "class_size = class_size[class_size[\"PROGRAM TYPE\"] == \"GEN ED\"]\n",
    "print(class_size[[\"GRADE \", \"PROGRAM TYPE\"]].head(5))\n",
    "\n",
    "# Consolidate the data frame for unique DBN field\n",
    "class_size = class_size.groupby(\"DBN\").agg('mean')\n",
    "\n",
    "# Converting back DBN as index to column \n",
    "class_size.reset_index(inplace=True)\n",
    "data[\"class_size\"] = class_size\n",
    "\n",
    "# Print data frame for verification\n",
    "data['class_size'].head(5)"
   ]
  },
  {
   "cell_type": "markdown",
   "metadata": {},
   "source": [
    "#### Data frame 'demographics'"
   ]
  },
  {
   "cell_type": "code",
   "execution_count": 7,
   "metadata": {},
   "outputs": [
    {
     "data": {
      "text/html": [
       "<div>\n",
       "<style scoped>\n",
       "    .dataframe tbody tr th:only-of-type {\n",
       "        vertical-align: middle;\n",
       "    }\n",
       "\n",
       "    .dataframe tbody tr th {\n",
       "        vertical-align: top;\n",
       "    }\n",
       "\n",
       "    .dataframe thead th {\n",
       "        text-align: right;\n",
       "    }\n",
       "</style>\n",
       "<table border=\"1\" class=\"dataframe\">\n",
       "  <thead>\n",
       "    <tr style=\"text-align: right;\">\n",
       "      <th></th>\n",
       "      <th>DBN</th>\n",
       "      <th>Name</th>\n",
       "      <th>schoolyear</th>\n",
       "      <th>fl_percent</th>\n",
       "      <th>frl_percent</th>\n",
       "      <th>total_enrollment</th>\n",
       "      <th>prek</th>\n",
       "      <th>k</th>\n",
       "      <th>grade1</th>\n",
       "      <th>grade2</th>\n",
       "      <th>...</th>\n",
       "      <th>black_num</th>\n",
       "      <th>black_per</th>\n",
       "      <th>hispanic_num</th>\n",
       "      <th>hispanic_per</th>\n",
       "      <th>white_num</th>\n",
       "      <th>white_per</th>\n",
       "      <th>male_num</th>\n",
       "      <th>male_per</th>\n",
       "      <th>female_num</th>\n",
       "      <th>female_per</th>\n",
       "    </tr>\n",
       "  </thead>\n",
       "  <tbody>\n",
       "    <tr>\n",
       "      <th>6</th>\n",
       "      <td>01M015</td>\n",
       "      <td>P.S. 015 ROBERTO CLEMENTE</td>\n",
       "      <td>20112012</td>\n",
       "      <td>NaN</td>\n",
       "      <td>89.4</td>\n",
       "      <td>189</td>\n",
       "      <td>13</td>\n",
       "      <td>31</td>\n",
       "      <td>35</td>\n",
       "      <td>28</td>\n",
       "      <td>...</td>\n",
       "      <td>63</td>\n",
       "      <td>33.3</td>\n",
       "      <td>109</td>\n",
       "      <td>57.7</td>\n",
       "      <td>4</td>\n",
       "      <td>2.1</td>\n",
       "      <td>97.0</td>\n",
       "      <td>51.3</td>\n",
       "      <td>92.0</td>\n",
       "      <td>48.7</td>\n",
       "    </tr>\n",
       "    <tr>\n",
       "      <th>13</th>\n",
       "      <td>01M019</td>\n",
       "      <td>P.S. 019 ASHER LEVY</td>\n",
       "      <td>20112012</td>\n",
       "      <td>NaN</td>\n",
       "      <td>61.5</td>\n",
       "      <td>328</td>\n",
       "      <td>32</td>\n",
       "      <td>46</td>\n",
       "      <td>52</td>\n",
       "      <td>54</td>\n",
       "      <td>...</td>\n",
       "      <td>81</td>\n",
       "      <td>24.7</td>\n",
       "      <td>158</td>\n",
       "      <td>48.2</td>\n",
       "      <td>28</td>\n",
       "      <td>8.5</td>\n",
       "      <td>147.0</td>\n",
       "      <td>44.8</td>\n",
       "      <td>181.0</td>\n",
       "      <td>55.2</td>\n",
       "    </tr>\n",
       "    <tr>\n",
       "      <th>20</th>\n",
       "      <td>01M020</td>\n",
       "      <td>PS 020 ANNA SILVER</td>\n",
       "      <td>20112012</td>\n",
       "      <td>NaN</td>\n",
       "      <td>92.5</td>\n",
       "      <td>626</td>\n",
       "      <td>52</td>\n",
       "      <td>102</td>\n",
       "      <td>121</td>\n",
       "      <td>87</td>\n",
       "      <td>...</td>\n",
       "      <td>55</td>\n",
       "      <td>8.8</td>\n",
       "      <td>357</td>\n",
       "      <td>57.0</td>\n",
       "      <td>16</td>\n",
       "      <td>2.6</td>\n",
       "      <td>330.0</td>\n",
       "      <td>52.7</td>\n",
       "      <td>296.0</td>\n",
       "      <td>47.3</td>\n",
       "    </tr>\n",
       "    <tr>\n",
       "      <th>27</th>\n",
       "      <td>01M034</td>\n",
       "      <td>PS 034 FRANKLIN D ROOSEVELT</td>\n",
       "      <td>20112012</td>\n",
       "      <td>NaN</td>\n",
       "      <td>99.7</td>\n",
       "      <td>401</td>\n",
       "      <td>14</td>\n",
       "      <td>34</td>\n",
       "      <td>38</td>\n",
       "      <td>36</td>\n",
       "      <td>...</td>\n",
       "      <td>90</td>\n",
       "      <td>22.4</td>\n",
       "      <td>275</td>\n",
       "      <td>68.6</td>\n",
       "      <td>8</td>\n",
       "      <td>2.0</td>\n",
       "      <td>204.0</td>\n",
       "      <td>50.9</td>\n",
       "      <td>197.0</td>\n",
       "      <td>49.1</td>\n",
       "    </tr>\n",
       "    <tr>\n",
       "      <th>35</th>\n",
       "      <td>01M063</td>\n",
       "      <td>PS 063 WILLIAM MCKINLEY</td>\n",
       "      <td>20112012</td>\n",
       "      <td>NaN</td>\n",
       "      <td>78.9</td>\n",
       "      <td>176</td>\n",
       "      <td>18</td>\n",
       "      <td>20</td>\n",
       "      <td>30</td>\n",
       "      <td>21</td>\n",
       "      <td>...</td>\n",
       "      <td>41</td>\n",
       "      <td>23.3</td>\n",
       "      <td>110</td>\n",
       "      <td>62.5</td>\n",
       "      <td>15</td>\n",
       "      <td>8.5</td>\n",
       "      <td>97.0</td>\n",
       "      <td>55.1</td>\n",
       "      <td>79.0</td>\n",
       "      <td>44.9</td>\n",
       "    </tr>\n",
       "  </tbody>\n",
       "</table>\n",
       "<p>5 rows × 38 columns</p>\n",
       "</div>"
      ],
      "text/plain": [
       "       DBN                                              Name  schoolyear  \\\n",
       "6   01M015  P.S. 015 ROBERTO CLEMENTE                           20112012   \n",
       "13  01M019  P.S. 019 ASHER LEVY                                 20112012   \n",
       "20  01M020  PS 020 ANNA SILVER                                  20112012   \n",
       "27  01M034  PS 034 FRANKLIN D ROOSEVELT                         20112012   \n",
       "35  01M063  PS 063 WILLIAM MCKINLEY                             20112012   \n",
       "\n",
       "   fl_percent  frl_percent  total_enrollment prek    k grade1 grade2  \\\n",
       "6         NaN         89.4               189   13   31     35     28   \n",
       "13        NaN         61.5               328   32   46     52     54   \n",
       "20        NaN         92.5               626   52  102    121     87   \n",
       "27        NaN         99.7               401   14   34     38     36   \n",
       "35        NaN         78.9               176   18   20     30     21   \n",
       "\n",
       "      ...     black_num black_per hispanic_num hispanic_per white_num  \\\n",
       "6     ...            63      33.3          109         57.7         4   \n",
       "13    ...            81      24.7          158         48.2        28   \n",
       "20    ...            55       8.8          357         57.0        16   \n",
       "27    ...            90      22.4          275         68.6         8   \n",
       "35    ...            41      23.3          110         62.5        15   \n",
       "\n",
       "   white_per male_num male_per female_num female_per  \n",
       "6        2.1     97.0     51.3       92.0       48.7  \n",
       "13       8.5    147.0     44.8      181.0       55.2  \n",
       "20       2.6    330.0     52.7      296.0       47.3  \n",
       "27       2.0    204.0     50.9      197.0       49.1  \n",
       "35       8.5     97.0     55.1       79.0       44.9  \n",
       "\n",
       "[5 rows x 38 columns]"
      ]
     },
     "execution_count": 7,
     "metadata": {},
     "output_type": "execute_result"
    }
   ],
   "source": [
    "# Seggregating the dataframe 'demographics' based on the 'schoolyear' to extract unique DBN\n",
    "data[\"demographics\"] = data[\"demographics\"][data[\"demographics\"][\"schoolyear\"] == 20112012]\n",
    "\n",
    "# Print for verification\n",
    "data['demographics'].head(5)"
   ]
  },
  {
   "cell_type": "markdown",
   "metadata": {},
   "source": [
    "#### Data frame 'graduation'"
   ]
  },
  {
   "cell_type": "code",
   "execution_count": 8,
   "metadata": {},
   "outputs": [
    {
     "data": {
      "text/html": [
       "<div>\n",
       "<style scoped>\n",
       "    .dataframe tbody tr th:only-of-type {\n",
       "        vertical-align: middle;\n",
       "    }\n",
       "\n",
       "    .dataframe tbody tr th {\n",
       "        vertical-align: top;\n",
       "    }\n",
       "\n",
       "    .dataframe thead th {\n",
       "        text-align: right;\n",
       "    }\n",
       "</style>\n",
       "<table border=\"1\" class=\"dataframe\">\n",
       "  <thead>\n",
       "    <tr style=\"text-align: right;\">\n",
       "      <th></th>\n",
       "      <th>Demographic</th>\n",
       "      <th>DBN</th>\n",
       "      <th>School Name</th>\n",
       "      <th>Cohort</th>\n",
       "      <th>Total Cohort</th>\n",
       "      <th>Total Grads - n</th>\n",
       "      <th>Total Grads - % of cohort</th>\n",
       "      <th>Total Regents - n</th>\n",
       "      <th>Total Regents - % of cohort</th>\n",
       "      <th>Total Regents - % of grads</th>\n",
       "      <th>...</th>\n",
       "      <th>Regents w/o Advanced - n</th>\n",
       "      <th>Regents w/o Advanced - % of cohort</th>\n",
       "      <th>Regents w/o Advanced - % of grads</th>\n",
       "      <th>Local - n</th>\n",
       "      <th>Local - % of cohort</th>\n",
       "      <th>Local - % of grads</th>\n",
       "      <th>Still Enrolled - n</th>\n",
       "      <th>Still Enrolled - % of cohort</th>\n",
       "      <th>Dropped Out - n</th>\n",
       "      <th>Dropped Out - % of cohort</th>\n",
       "    </tr>\n",
       "  </thead>\n",
       "  <tbody>\n",
       "    <tr>\n",
       "      <th>3</th>\n",
       "      <td>Total Cohort</td>\n",
       "      <td>01M292</td>\n",
       "      <td>HENRY STREET SCHOOL FOR INTERNATIONAL</td>\n",
       "      <td>2006</td>\n",
       "      <td>78</td>\n",
       "      <td>43</td>\n",
       "      <td>55.1%</td>\n",
       "      <td>36</td>\n",
       "      <td>46.2%</td>\n",
       "      <td>83.7%</td>\n",
       "      <td>...</td>\n",
       "      <td>36</td>\n",
       "      <td>46.2%</td>\n",
       "      <td>83.7%</td>\n",
       "      <td>7</td>\n",
       "      <td>9%</td>\n",
       "      <td>16.3%</td>\n",
       "      <td>16</td>\n",
       "      <td>20.5%</td>\n",
       "      <td>11</td>\n",
       "      <td>14.1%</td>\n",
       "    </tr>\n",
       "    <tr>\n",
       "      <th>10</th>\n",
       "      <td>Total Cohort</td>\n",
       "      <td>01M448</td>\n",
       "      <td>UNIVERSITY NEIGHBORHOOD HIGH SCHOOL</td>\n",
       "      <td>2006</td>\n",
       "      <td>124</td>\n",
       "      <td>53</td>\n",
       "      <td>42.7%</td>\n",
       "      <td>42</td>\n",
       "      <td>33.9%</td>\n",
       "      <td>79.2%</td>\n",
       "      <td>...</td>\n",
       "      <td>34</td>\n",
       "      <td>27.4%</td>\n",
       "      <td>64.2%</td>\n",
       "      <td>11</td>\n",
       "      <td>8.9%</td>\n",
       "      <td>20.8%</td>\n",
       "      <td>46</td>\n",
       "      <td>37.1%</td>\n",
       "      <td>20</td>\n",
       "      <td>16.100000000000001%</td>\n",
       "    </tr>\n",
       "    <tr>\n",
       "      <th>17</th>\n",
       "      <td>Total Cohort</td>\n",
       "      <td>01M450</td>\n",
       "      <td>EAST SIDE COMMUNITY SCHOOL</td>\n",
       "      <td>2006</td>\n",
       "      <td>90</td>\n",
       "      <td>70</td>\n",
       "      <td>77.8%</td>\n",
       "      <td>67</td>\n",
       "      <td>74.400000000000006%</td>\n",
       "      <td>95.7%</td>\n",
       "      <td>...</td>\n",
       "      <td>67</td>\n",
       "      <td>74.400000000000006%</td>\n",
       "      <td>95.7%</td>\n",
       "      <td>3</td>\n",
       "      <td>3.3%</td>\n",
       "      <td>4.3%</td>\n",
       "      <td>15</td>\n",
       "      <td>16.7%</td>\n",
       "      <td>5</td>\n",
       "      <td>5.6%</td>\n",
       "    </tr>\n",
       "    <tr>\n",
       "      <th>24</th>\n",
       "      <td>Total Cohort</td>\n",
       "      <td>01M509</td>\n",
       "      <td>MARTA VALLE HIGH SCHOOL</td>\n",
       "      <td>2006</td>\n",
       "      <td>84</td>\n",
       "      <td>47</td>\n",
       "      <td>56%</td>\n",
       "      <td>40</td>\n",
       "      <td>47.6%</td>\n",
       "      <td>85.1%</td>\n",
       "      <td>...</td>\n",
       "      <td>23</td>\n",
       "      <td>27.4%</td>\n",
       "      <td>48.9%</td>\n",
       "      <td>7</td>\n",
       "      <td>8.300000000000001%</td>\n",
       "      <td>14.9%</td>\n",
       "      <td>25</td>\n",
       "      <td>29.8%</td>\n",
       "      <td>5</td>\n",
       "      <td>6%</td>\n",
       "    </tr>\n",
       "    <tr>\n",
       "      <th>31</th>\n",
       "      <td>Total Cohort</td>\n",
       "      <td>01M515</td>\n",
       "      <td>LOWER EAST SIDE PREPARATORY HIGH SCHO</td>\n",
       "      <td>2006</td>\n",
       "      <td>193</td>\n",
       "      <td>105</td>\n",
       "      <td>54.4%</td>\n",
       "      <td>91</td>\n",
       "      <td>47.2%</td>\n",
       "      <td>86.7%</td>\n",
       "      <td>...</td>\n",
       "      <td>22</td>\n",
       "      <td>11.4%</td>\n",
       "      <td>21%</td>\n",
       "      <td>14</td>\n",
       "      <td>7.3%</td>\n",
       "      <td>13.3%</td>\n",
       "      <td>53</td>\n",
       "      <td>27.5%</td>\n",
       "      <td>35</td>\n",
       "      <td>18.100000000000001%</td>\n",
       "    </tr>\n",
       "  </tbody>\n",
       "</table>\n",
       "<p>5 rows × 23 columns</p>\n",
       "</div>"
      ],
      "text/plain": [
       "     Demographic     DBN                            School Name Cohort  \\\n",
       "3   Total Cohort  01M292  HENRY STREET SCHOOL FOR INTERNATIONAL   2006   \n",
       "10  Total Cohort  01M448    UNIVERSITY NEIGHBORHOOD HIGH SCHOOL   2006   \n",
       "17  Total Cohort  01M450             EAST SIDE COMMUNITY SCHOOL   2006   \n",
       "24  Total Cohort  01M509                MARTA VALLE HIGH SCHOOL   2006   \n",
       "31  Total Cohort  01M515  LOWER EAST SIDE PREPARATORY HIGH SCHO   2006   \n",
       "\n",
       "    Total Cohort Total Grads - n Total Grads - % of cohort Total Regents - n  \\\n",
       "3             78              43                     55.1%                36   \n",
       "10           124              53                     42.7%                42   \n",
       "17            90              70                     77.8%                67   \n",
       "24            84              47                       56%                40   \n",
       "31           193             105                     54.4%                91   \n",
       "\n",
       "   Total Regents - % of cohort Total Regents - % of grads  \\\n",
       "3                        46.2%                      83.7%   \n",
       "10                       33.9%                      79.2%   \n",
       "17         74.400000000000006%                      95.7%   \n",
       "24                       47.6%                      85.1%   \n",
       "31                       47.2%                      86.7%   \n",
       "\n",
       "              ...            Regents w/o Advanced - n  \\\n",
       "3             ...                                  36   \n",
       "10            ...                                  34   \n",
       "17            ...                                  67   \n",
       "24            ...                                  23   \n",
       "31            ...                                  22   \n",
       "\n",
       "   Regents w/o Advanced - % of cohort Regents w/o Advanced - % of grads  \\\n",
       "3                               46.2%                             83.7%   \n",
       "10                              27.4%                             64.2%   \n",
       "17                74.400000000000006%                             95.7%   \n",
       "24                              27.4%                             48.9%   \n",
       "31                              11.4%                               21%   \n",
       "\n",
       "   Local - n Local - % of cohort Local - % of grads Still Enrolled - n  \\\n",
       "3          7                  9%              16.3%                 16   \n",
       "10        11                8.9%              20.8%                 46   \n",
       "17         3                3.3%               4.3%                 15   \n",
       "24         7  8.300000000000001%              14.9%                 25   \n",
       "31        14                7.3%              13.3%                 53   \n",
       "\n",
       "   Still Enrolled - % of cohort Dropped Out - n Dropped Out - % of cohort  \n",
       "3                         20.5%              11                     14.1%  \n",
       "10                        37.1%              20       16.100000000000001%  \n",
       "17                        16.7%               5                      5.6%  \n",
       "24                        29.8%               5                        6%  \n",
       "31                        27.5%              35       18.100000000000001%  \n",
       "\n",
       "[5 rows x 23 columns]"
      ]
     },
     "execution_count": 8,
     "metadata": {},
     "output_type": "execute_result"
    }
   ],
   "source": [
    "# Seggregating the dataframe 'graduation' for features useful to get unique DBN\n",
    "data[\"graduation\"] = data[\"graduation\"][data[\"graduation\"][\"Cohort\"] == \"2006\"]\n",
    "data[\"graduation\"] = data[\"graduation\"][data[\"graduation\"][\"Demographic\"] == \"Total Cohort\"]\n",
    "\n",
    "# Print for verification\n",
    "data[\"graduation\"].head(5)"
   ]
  },
  {
   "cell_type": "markdown",
   "metadata": {},
   "source": [
    "### Convert AP scores to numeric"
   ]
  },
  {
   "cell_type": "code",
   "execution_count": 9,
   "metadata": {},
   "outputs": [
    {
     "name": "stdout",
     "output_type": "stream",
     "text": [
      "(258, 5)\n"
     ]
    },
    {
     "data": {
      "text/html": [
       "<div>\n",
       "<style scoped>\n",
       "    .dataframe tbody tr th:only-of-type {\n",
       "        vertical-align: middle;\n",
       "    }\n",
       "\n",
       "    .dataframe tbody tr th {\n",
       "        vertical-align: top;\n",
       "    }\n",
       "\n",
       "    .dataframe thead th {\n",
       "        text-align: right;\n",
       "    }\n",
       "</style>\n",
       "<table border=\"1\" class=\"dataframe\">\n",
       "  <thead>\n",
       "    <tr style=\"text-align: right;\">\n",
       "      <th></th>\n",
       "      <th>DBN</th>\n",
       "      <th>SchoolName</th>\n",
       "      <th>AP Test Takers</th>\n",
       "      <th>Total Exams Taken</th>\n",
       "      <th>Number of Exams with scores 3 4 or 5</th>\n",
       "    </tr>\n",
       "  </thead>\n",
       "  <tbody>\n",
       "    <tr>\n",
       "      <th>0</th>\n",
       "      <td>01M448</td>\n",
       "      <td>UNIVERSITY NEIGHBORHOOD H.S.</td>\n",
       "      <td>39.0</td>\n",
       "      <td>49.0</td>\n",
       "      <td>10.0</td>\n",
       "    </tr>\n",
       "    <tr>\n",
       "      <th>1</th>\n",
       "      <td>01M450</td>\n",
       "      <td>EAST SIDE COMMUNITY HS</td>\n",
       "      <td>19.0</td>\n",
       "      <td>21.0</td>\n",
       "      <td>NaN</td>\n",
       "    </tr>\n",
       "    <tr>\n",
       "      <th>2</th>\n",
       "      <td>01M515</td>\n",
       "      <td>LOWER EASTSIDE PREP</td>\n",
       "      <td>24.0</td>\n",
       "      <td>26.0</td>\n",
       "      <td>24.0</td>\n",
       "    </tr>\n",
       "    <tr>\n",
       "      <th>3</th>\n",
       "      <td>01M539</td>\n",
       "      <td>NEW EXPLORATIONS SCI,TECH,MATH</td>\n",
       "      <td>255.0</td>\n",
       "      <td>377.0</td>\n",
       "      <td>191.0</td>\n",
       "    </tr>\n",
       "    <tr>\n",
       "      <th>4</th>\n",
       "      <td>02M296</td>\n",
       "      <td>High School of Hospitality Management</td>\n",
       "      <td>NaN</td>\n",
       "      <td>NaN</td>\n",
       "      <td>NaN</td>\n",
       "    </tr>\n",
       "  </tbody>\n",
       "</table>\n",
       "</div>"
      ],
      "text/plain": [
       "      DBN                             SchoolName  AP Test Takers   \\\n",
       "0  01M448           UNIVERSITY NEIGHBORHOOD H.S.             39.0   \n",
       "1  01M450                 EAST SIDE COMMUNITY HS             19.0   \n",
       "2  01M515                    LOWER EASTSIDE PREP             24.0   \n",
       "3  01M539         NEW EXPLORATIONS SCI,TECH,MATH            255.0   \n",
       "4  02M296  High School of Hospitality Management              NaN   \n",
       "\n",
       "   Total Exams Taken  Number of Exams with scores 3 4 or 5  \n",
       "0               49.0                                  10.0  \n",
       "1               21.0                                   NaN  \n",
       "2               26.0                                  24.0  \n",
       "3              377.0                                 191.0  \n",
       "4                NaN                                   NaN  "
      ]
     },
     "execution_count": 9,
     "metadata": {},
     "output_type": "execute_result"
    }
   ],
   "source": [
    "# Convert 'ap_2010' data frame columns to numeric format, transform errors into null\n",
    "cols = ['AP Test Takers ', 'Total Exams Taken', 'Number of Exams with scores 3 4 or 5']\n",
    "\n",
    "for col in cols:\n",
    "    data[\"ap_2010\"][col] = pandas.to_numeric(data[\"ap_2010\"][col], errors=\"coerce\")\n",
    "    \n",
    "# Print for verification\n",
    "print(data['ap_2010'].shape)\n",
    "data[\"ap_2010\"].head(5)"
   ]
  },
  {
   "cell_type": "markdown",
   "metadata": {},
   "source": [
    "### Combine the Datasets"
   ]
  },
  {
   "cell_type": "code",
   "execution_count": 10,
   "metadata": {},
   "outputs": [
    {
     "name": "stdout",
     "output_type": "stream",
     "text": [
      "(479, 33)\n"
     ]
    },
    {
     "data": {
      "text/html": [
       "<div>\n",
       "<style scoped>\n",
       "    .dataframe tbody tr th:only-of-type {\n",
       "        vertical-align: middle;\n",
       "    }\n",
       "\n",
       "    .dataframe tbody tr th {\n",
       "        vertical-align: top;\n",
       "    }\n",
       "\n",
       "    .dataframe thead th {\n",
       "        text-align: right;\n",
       "    }\n",
       "</style>\n",
       "<table border=\"1\" class=\"dataframe\">\n",
       "  <thead>\n",
       "    <tr style=\"text-align: right;\">\n",
       "      <th></th>\n",
       "      <th>DBN</th>\n",
       "      <th>SCHOOL NAME</th>\n",
       "      <th>Num of SAT Test Takers</th>\n",
       "      <th>SAT Critical Reading Avg. Score</th>\n",
       "      <th>SAT Math Avg. Score</th>\n",
       "      <th>SAT Writing Avg. Score</th>\n",
       "      <th>sat_score</th>\n",
       "      <th>SchoolName</th>\n",
       "      <th>AP Test Takers</th>\n",
       "      <th>Total Exams Taken</th>\n",
       "      <th>...</th>\n",
       "      <th>Regents w/o Advanced - n</th>\n",
       "      <th>Regents w/o Advanced - % of cohort</th>\n",
       "      <th>Regents w/o Advanced - % of grads</th>\n",
       "      <th>Local - n</th>\n",
       "      <th>Local - % of cohort</th>\n",
       "      <th>Local - % of grads</th>\n",
       "      <th>Still Enrolled - n</th>\n",
       "      <th>Still Enrolled - % of cohort</th>\n",
       "      <th>Dropped Out - n</th>\n",
       "      <th>Dropped Out - % of cohort</th>\n",
       "    </tr>\n",
       "  </thead>\n",
       "  <tbody>\n",
       "    <tr>\n",
       "      <th>0</th>\n",
       "      <td>01M292</td>\n",
       "      <td>HENRY STREET SCHOOL FOR INTERNATIONAL STUDIES</td>\n",
       "      <td>29</td>\n",
       "      <td>355.0</td>\n",
       "      <td>404.0</td>\n",
       "      <td>363.0</td>\n",
       "      <td>1122.0</td>\n",
       "      <td>NaN</td>\n",
       "      <td>NaN</td>\n",
       "      <td>NaN</td>\n",
       "      <td>...</td>\n",
       "      <td>36</td>\n",
       "      <td>46.2%</td>\n",
       "      <td>83.7%</td>\n",
       "      <td>7</td>\n",
       "      <td>9%</td>\n",
       "      <td>16.3%</td>\n",
       "      <td>16</td>\n",
       "      <td>20.5%</td>\n",
       "      <td>11</td>\n",
       "      <td>14.1%</td>\n",
       "    </tr>\n",
       "    <tr>\n",
       "      <th>1</th>\n",
       "      <td>01M448</td>\n",
       "      <td>UNIVERSITY NEIGHBORHOOD HIGH SCHOOL</td>\n",
       "      <td>91</td>\n",
       "      <td>383.0</td>\n",
       "      <td>423.0</td>\n",
       "      <td>366.0</td>\n",
       "      <td>1172.0</td>\n",
       "      <td>UNIVERSITY NEIGHBORHOOD H.S.</td>\n",
       "      <td>39.0</td>\n",
       "      <td>49.0</td>\n",
       "      <td>...</td>\n",
       "      <td>34</td>\n",
       "      <td>27.4%</td>\n",
       "      <td>64.2%</td>\n",
       "      <td>11</td>\n",
       "      <td>8.9%</td>\n",
       "      <td>20.8%</td>\n",
       "      <td>46</td>\n",
       "      <td>37.1%</td>\n",
       "      <td>20</td>\n",
       "      <td>16.100000000000001%</td>\n",
       "    </tr>\n",
       "    <tr>\n",
       "      <th>2</th>\n",
       "      <td>01M450</td>\n",
       "      <td>EAST SIDE COMMUNITY SCHOOL</td>\n",
       "      <td>70</td>\n",
       "      <td>377.0</td>\n",
       "      <td>402.0</td>\n",
       "      <td>370.0</td>\n",
       "      <td>1149.0</td>\n",
       "      <td>EAST SIDE COMMUNITY HS</td>\n",
       "      <td>19.0</td>\n",
       "      <td>21.0</td>\n",
       "      <td>...</td>\n",
       "      <td>67</td>\n",
       "      <td>74.400000000000006%</td>\n",
       "      <td>95.7%</td>\n",
       "      <td>3</td>\n",
       "      <td>3.3%</td>\n",
       "      <td>4.3%</td>\n",
       "      <td>15</td>\n",
       "      <td>16.7%</td>\n",
       "      <td>5</td>\n",
       "      <td>5.6%</td>\n",
       "    </tr>\n",
       "    <tr>\n",
       "      <th>3</th>\n",
       "      <td>01M458</td>\n",
       "      <td>FORSYTH SATELLITE ACADEMY</td>\n",
       "      <td>7</td>\n",
       "      <td>414.0</td>\n",
       "      <td>401.0</td>\n",
       "      <td>359.0</td>\n",
       "      <td>1174.0</td>\n",
       "      <td>NaN</td>\n",
       "      <td>NaN</td>\n",
       "      <td>NaN</td>\n",
       "      <td>...</td>\n",
       "      <td>NaN</td>\n",
       "      <td>NaN</td>\n",
       "      <td>NaN</td>\n",
       "      <td>NaN</td>\n",
       "      <td>NaN</td>\n",
       "      <td>NaN</td>\n",
       "      <td>NaN</td>\n",
       "      <td>NaN</td>\n",
       "      <td>NaN</td>\n",
       "      <td>NaN</td>\n",
       "    </tr>\n",
       "    <tr>\n",
       "      <th>4</th>\n",
       "      <td>01M509</td>\n",
       "      <td>MARTA VALLE HIGH SCHOOL</td>\n",
       "      <td>44</td>\n",
       "      <td>390.0</td>\n",
       "      <td>433.0</td>\n",
       "      <td>384.0</td>\n",
       "      <td>1207.0</td>\n",
       "      <td>NaN</td>\n",
       "      <td>NaN</td>\n",
       "      <td>NaN</td>\n",
       "      <td>...</td>\n",
       "      <td>23</td>\n",
       "      <td>27.4%</td>\n",
       "      <td>48.9%</td>\n",
       "      <td>7</td>\n",
       "      <td>8.300000000000001%</td>\n",
       "      <td>14.9%</td>\n",
       "      <td>25</td>\n",
       "      <td>29.8%</td>\n",
       "      <td>5</td>\n",
       "      <td>6%</td>\n",
       "    </tr>\n",
       "  </tbody>\n",
       "</table>\n",
       "<p>5 rows × 33 columns</p>\n",
       "</div>"
      ],
      "text/plain": [
       "      DBN                                    SCHOOL NAME  \\\n",
       "0  01M292  HENRY STREET SCHOOL FOR INTERNATIONAL STUDIES   \n",
       "1  01M448            UNIVERSITY NEIGHBORHOOD HIGH SCHOOL   \n",
       "2  01M450                     EAST SIDE COMMUNITY SCHOOL   \n",
       "3  01M458                      FORSYTH SATELLITE ACADEMY   \n",
       "4  01M509                        MARTA VALLE HIGH SCHOOL   \n",
       "\n",
       "  Num of SAT Test Takers  SAT Critical Reading Avg. Score  \\\n",
       "0                     29                            355.0   \n",
       "1                     91                            383.0   \n",
       "2                     70                            377.0   \n",
       "3                      7                            414.0   \n",
       "4                     44                            390.0   \n",
       "\n",
       "   SAT Math Avg. Score  SAT Writing Avg. Score  sat_score  \\\n",
       "0                404.0                   363.0     1122.0   \n",
       "1                423.0                   366.0     1172.0   \n",
       "2                402.0                   370.0     1149.0   \n",
       "3                401.0                   359.0     1174.0   \n",
       "4                433.0                   384.0     1207.0   \n",
       "\n",
       "                     SchoolName  AP Test Takers   Total Exams Taken  \\\n",
       "0                           NaN              NaN                NaN   \n",
       "1  UNIVERSITY NEIGHBORHOOD H.S.             39.0               49.0   \n",
       "2        EAST SIDE COMMUNITY HS             19.0               21.0   \n",
       "3                           NaN              NaN                NaN   \n",
       "4                           NaN              NaN                NaN   \n",
       "\n",
       "             ...             Regents w/o Advanced - n  \\\n",
       "0            ...                                   36   \n",
       "1            ...                                   34   \n",
       "2            ...                                   67   \n",
       "3            ...                                  NaN   \n",
       "4            ...                                   23   \n",
       "\n",
       "  Regents w/o Advanced - % of cohort Regents w/o Advanced - % of grads  \\\n",
       "0                              46.2%                             83.7%   \n",
       "1                              27.4%                             64.2%   \n",
       "2                74.400000000000006%                             95.7%   \n",
       "3                                NaN                               NaN   \n",
       "4                              27.4%                             48.9%   \n",
       "\n",
       "  Local - n  Local - % of cohort Local - % of grads Still Enrolled - n  \\\n",
       "0         7                   9%              16.3%                 16   \n",
       "1        11                 8.9%              20.8%                 46   \n",
       "2         3                 3.3%               4.3%                 15   \n",
       "3       NaN                  NaN                NaN                NaN   \n",
       "4         7   8.300000000000001%              14.9%                 25   \n",
       "\n",
       "  Still Enrolled - % of cohort Dropped Out - n Dropped Out - % of cohort  \n",
       "0                        20.5%              11                     14.1%  \n",
       "1                        37.1%              20       16.100000000000001%  \n",
       "2                        16.7%               5                      5.6%  \n",
       "3                          NaN             NaN                       NaN  \n",
       "4                        29.8%               5                        6%  \n",
       "\n",
       "[5 rows x 33 columns]"
      ]
     },
     "execution_count": 10,
     "metadata": {},
     "output_type": "execute_result"
    }
   ],
   "source": [
    "combined = data[\"sat_results\"]\n",
    "\n",
    "combined = combined.merge(data[\"ap_2010\"], on=\"DBN\", how=\"left\")\n",
    "combined = combined.merge(data[\"graduation\"], on=\"DBN\", how=\"left\")\n",
    "\n",
    "# Print for verification\n",
    "print(combined.shape)\n",
    "combined.head(5)\n"
   ]
  },
  {
   "cell_type": "code",
   "execution_count": 11,
   "metadata": {},
   "outputs": [
    {
     "name": "stdout",
     "output_type": "stream",
     "text": [
      "(363, 159)\n"
     ]
    },
    {
     "data": {
      "text/html": [
       "<div>\n",
       "<style scoped>\n",
       "    .dataframe tbody tr th:only-of-type {\n",
       "        vertical-align: middle;\n",
       "    }\n",
       "\n",
       "    .dataframe tbody tr th {\n",
       "        vertical-align: top;\n",
       "    }\n",
       "\n",
       "    .dataframe thead th {\n",
       "        text-align: right;\n",
       "    }\n",
       "</style>\n",
       "<table border=\"1\" class=\"dataframe\">\n",
       "  <thead>\n",
       "    <tr style=\"text-align: right;\">\n",
       "      <th></th>\n",
       "      <th>DBN</th>\n",
       "      <th>SCHOOL NAME</th>\n",
       "      <th>Num of SAT Test Takers</th>\n",
       "      <th>SAT Critical Reading Avg. Score</th>\n",
       "      <th>SAT Math Avg. Score</th>\n",
       "      <th>SAT Writing Avg. Score</th>\n",
       "      <th>sat_score</th>\n",
       "      <th>SchoolName</th>\n",
       "      <th>AP Test Takers</th>\n",
       "      <th>Total Exams Taken</th>\n",
       "      <th>...</th>\n",
       "      <th>priority04</th>\n",
       "      <th>priority05</th>\n",
       "      <th>priority06</th>\n",
       "      <th>priority07</th>\n",
       "      <th>priority08</th>\n",
       "      <th>priority09</th>\n",
       "      <th>priority10</th>\n",
       "      <th>Location 1</th>\n",
       "      <th>lat</th>\n",
       "      <th>lon</th>\n",
       "    </tr>\n",
       "  </thead>\n",
       "  <tbody>\n",
       "    <tr>\n",
       "      <th>0</th>\n",
       "      <td>01M292</td>\n",
       "      <td>HENRY STREET SCHOOL FOR INTERNATIONAL STUDIES</td>\n",
       "      <td>29</td>\n",
       "      <td>355.0</td>\n",
       "      <td>404.0</td>\n",
       "      <td>363.0</td>\n",
       "      <td>1122.0</td>\n",
       "      <td>NaN</td>\n",
       "      <td>NaN</td>\n",
       "      <td>NaN</td>\n",
       "      <td>...</td>\n",
       "      <td>Then to Manhattan students or residents</td>\n",
       "      <td>Then to New York City residents</td>\n",
       "      <td>NaN</td>\n",
       "      <td>NaN</td>\n",
       "      <td>NaN</td>\n",
       "      <td>NaN</td>\n",
       "      <td>NaN</td>\n",
       "      <td>220 Henry Street\\nNew York, NY 10002\\n(40.7137...</td>\n",
       "      <td>40.713764</td>\n",
       "      <td>-73.985260</td>\n",
       "    </tr>\n",
       "    <tr>\n",
       "      <th>1</th>\n",
       "      <td>01M448</td>\n",
       "      <td>UNIVERSITY NEIGHBORHOOD HIGH SCHOOL</td>\n",
       "      <td>91</td>\n",
       "      <td>383.0</td>\n",
       "      <td>423.0</td>\n",
       "      <td>366.0</td>\n",
       "      <td>1172.0</td>\n",
       "      <td>UNIVERSITY NEIGHBORHOOD H.S.</td>\n",
       "      <td>39.0</td>\n",
       "      <td>49.0</td>\n",
       "      <td>...</td>\n",
       "      <td>NaN</td>\n",
       "      <td>NaN</td>\n",
       "      <td>NaN</td>\n",
       "      <td>NaN</td>\n",
       "      <td>NaN</td>\n",
       "      <td>NaN</td>\n",
       "      <td>NaN</td>\n",
       "      <td>200 Monroe Street\\nNew York, NY 10002\\n(40.712...</td>\n",
       "      <td>40.712332</td>\n",
       "      <td>-73.984797</td>\n",
       "    </tr>\n",
       "    <tr>\n",
       "      <th>2</th>\n",
       "      <td>01M450</td>\n",
       "      <td>EAST SIDE COMMUNITY SCHOOL</td>\n",
       "      <td>70</td>\n",
       "      <td>377.0</td>\n",
       "      <td>402.0</td>\n",
       "      <td>370.0</td>\n",
       "      <td>1149.0</td>\n",
       "      <td>EAST SIDE COMMUNITY HS</td>\n",
       "      <td>19.0</td>\n",
       "      <td>21.0</td>\n",
       "      <td>...</td>\n",
       "      <td>NaN</td>\n",
       "      <td>NaN</td>\n",
       "      <td>NaN</td>\n",
       "      <td>NaN</td>\n",
       "      <td>NaN</td>\n",
       "      <td>NaN</td>\n",
       "      <td>NaN</td>\n",
       "      <td>420 East 12 Street\\nNew York, NY 10009\\n(40.72...</td>\n",
       "      <td>40.729783</td>\n",
       "      <td>-73.983041</td>\n",
       "    </tr>\n",
       "    <tr>\n",
       "      <th>3</th>\n",
       "      <td>01M509</td>\n",
       "      <td>MARTA VALLE HIGH SCHOOL</td>\n",
       "      <td>44</td>\n",
       "      <td>390.0</td>\n",
       "      <td>433.0</td>\n",
       "      <td>384.0</td>\n",
       "      <td>1207.0</td>\n",
       "      <td>NaN</td>\n",
       "      <td>NaN</td>\n",
       "      <td>NaN</td>\n",
       "      <td>...</td>\n",
       "      <td>NaN</td>\n",
       "      <td>NaN</td>\n",
       "      <td>NaN</td>\n",
       "      <td>NaN</td>\n",
       "      <td>NaN</td>\n",
       "      <td>NaN</td>\n",
       "      <td>NaN</td>\n",
       "      <td>145 Stanton Street\\nNew York, NY 10002\\n(40.72...</td>\n",
       "      <td>40.720569</td>\n",
       "      <td>-73.985673</td>\n",
       "    </tr>\n",
       "    <tr>\n",
       "      <th>4</th>\n",
       "      <td>01M539</td>\n",
       "      <td>NEW EXPLORATIONS INTO SCIENCE, TECHNOLOGY AND ...</td>\n",
       "      <td>159</td>\n",
       "      <td>522.0</td>\n",
       "      <td>574.0</td>\n",
       "      <td>525.0</td>\n",
       "      <td>1621.0</td>\n",
       "      <td>NEW EXPLORATIONS SCI,TECH,MATH</td>\n",
       "      <td>255.0</td>\n",
       "      <td>377.0</td>\n",
       "      <td>...</td>\n",
       "      <td>NaN</td>\n",
       "      <td>NaN</td>\n",
       "      <td>NaN</td>\n",
       "      <td>NaN</td>\n",
       "      <td>NaN</td>\n",
       "      <td>NaN</td>\n",
       "      <td>NaN</td>\n",
       "      <td>111 Columbia Street\\nNew York, NY 10002\\n(40.7...</td>\n",
       "      <td>40.718725</td>\n",
       "      <td>-73.979426</td>\n",
       "    </tr>\n",
       "  </tbody>\n",
       "</table>\n",
       "<p>5 rows × 159 columns</p>\n",
       "</div>"
      ],
      "text/plain": [
       "      DBN                                        SCHOOL NAME  \\\n",
       "0  01M292      HENRY STREET SCHOOL FOR INTERNATIONAL STUDIES   \n",
       "1  01M448                UNIVERSITY NEIGHBORHOOD HIGH SCHOOL   \n",
       "2  01M450                         EAST SIDE COMMUNITY SCHOOL   \n",
       "3  01M509                            MARTA VALLE HIGH SCHOOL   \n",
       "4  01M539  NEW EXPLORATIONS INTO SCIENCE, TECHNOLOGY AND ...   \n",
       "\n",
       "  Num of SAT Test Takers  SAT Critical Reading Avg. Score  \\\n",
       "0                     29                            355.0   \n",
       "1                     91                            383.0   \n",
       "2                     70                            377.0   \n",
       "3                     44                            390.0   \n",
       "4                    159                            522.0   \n",
       "\n",
       "   SAT Math Avg. Score  SAT Writing Avg. Score  sat_score  \\\n",
       "0                404.0                   363.0     1122.0   \n",
       "1                423.0                   366.0     1172.0   \n",
       "2                402.0                   370.0     1149.0   \n",
       "3                433.0                   384.0     1207.0   \n",
       "4                574.0                   525.0     1621.0   \n",
       "\n",
       "                       SchoolName  AP Test Takers   Total Exams Taken  \\\n",
       "0                             NaN              NaN                NaN   \n",
       "1    UNIVERSITY NEIGHBORHOOD H.S.             39.0               49.0   \n",
       "2          EAST SIDE COMMUNITY HS             19.0               21.0   \n",
       "3                             NaN              NaN                NaN   \n",
       "4  NEW EXPLORATIONS SCI,TECH,MATH            255.0              377.0   \n",
       "\n",
       "     ...                                   priority04  \\\n",
       "0    ...      Then to Manhattan students or residents   \n",
       "1    ...                                          NaN   \n",
       "2    ...                                          NaN   \n",
       "3    ...                                          NaN   \n",
       "4    ...                                          NaN   \n",
       "\n",
       "                        priority05 priority06 priority07  priority08  \\\n",
       "0  Then to New York City residents        NaN        NaN         NaN   \n",
       "1                              NaN        NaN        NaN         NaN   \n",
       "2                              NaN        NaN        NaN         NaN   \n",
       "3                              NaN        NaN        NaN         NaN   \n",
       "4                              NaN        NaN        NaN         NaN   \n",
       "\n",
       "  priority09 priority10                                         Location 1  \\\n",
       "0        NaN        NaN  220 Henry Street\\nNew York, NY 10002\\n(40.7137...   \n",
       "1        NaN        NaN  200 Monroe Street\\nNew York, NY 10002\\n(40.712...   \n",
       "2        NaN        NaN  420 East 12 Street\\nNew York, NY 10009\\n(40.72...   \n",
       "3        NaN        NaN  145 Stanton Street\\nNew York, NY 10002\\n(40.72...   \n",
       "4        NaN        NaN  111 Columbia Street\\nNew York, NY 10002\\n(40.7...   \n",
       "\n",
       "         lat        lon  \n",
       "0  40.713764 -73.985260  \n",
       "1  40.712332 -73.984797  \n",
       "2  40.729783 -73.983041  \n",
       "3  40.720569 -73.985673  \n",
       "4  40.718725 -73.979426  \n",
       "\n",
       "[5 rows x 159 columns]"
      ]
     },
     "execution_count": 11,
     "metadata": {},
     "output_type": "execute_result"
    }
   ],
   "source": [
    "to_merge = [\"class_size\", \"demographics\", \"survey\", \"hs_directory\"]\n",
    "\n",
    "for m in to_merge:\n",
    "    combined = combined.merge(data[m], on=\"DBN\", how=\"inner\")\n",
    "\n",
    "# Print for verification\n",
    "print(combined.shape)\n",
    "combined.head(5)"
   ]
  },
  {
   "cell_type": "markdown",
   "metadata": {},
   "source": [
    "### Fill Up Null Values"
   ]
  },
  {
   "cell_type": "code",
   "execution_count": 12,
   "metadata": {},
   "outputs": [
    {
     "name": "stdout",
     "output_type": "stream",
     "text": [
      "Null Values in Combined Data Frame = 0\n"
     ]
    }
   ],
   "source": [
    "# Fill up the null values with the column average value\n",
    "combined = combined.fillna(combined.mean())\n",
    "combined = combined.fillna(0)\n",
    "\n",
    "# Check for null values\n",
    "print(\"Null Values in Combined Data Frame =\", combined.isnull().sum().sum())"
   ]
  },
  {
   "cell_type": "markdown",
   "metadata": {},
   "source": [
    "### Add a School District Column for Mapping"
   ]
  },
  {
   "cell_type": "code",
   "execution_count": 13,
   "metadata": {},
   "outputs": [
    {
     "data": {
      "text/plain": [
       "0    01\n",
       "1    01\n",
       "2    01\n",
       "3    01\n",
       "4    01\n",
       "Name: school_dist, dtype: object"
      ]
     },
     "execution_count": 13,
     "metadata": {},
     "output_type": "execute_result"
    }
   ],
   "source": [
    "def get_first_two_chars(dbn):\n",
    "    return dbn[0:2]\n",
    "\n",
    "combined[\"school_dist\"] = combined[\"DBN\"].apply(get_first_two_chars)\n",
    "\n",
    "# Print for verification\n",
    "combined[\"school_dist\"].head(5)"
   ]
  },
  {
   "cell_type": "markdown",
   "metadata": {
    "raw_mimetype": "text/markdown"
   },
   "source": [
    "### Find correlations"
   ]
  },
  {
   "cell_type": "code",
   "execution_count": 14,
   "metadata": {},
   "outputs": [
    {
     "name": "stdout",
     "output_type": "stream",
     "text": [
      "SAT Critical Reading Avg. Score         0.997433\n",
      "SAT Math Avg. Score                     0.992862\n",
      "SAT Writing Avg. Score                  0.997205\n",
      "sat_score                               1.000000\n",
      "AP Test Takers                          0.742299\n",
      "Total Exams Taken                       0.747097\n",
      "Number of Exams with scores 3 4 or 5    0.751203\n",
      "Total Cohort                            0.469707\n",
      "CSD                                     0.209195\n",
      "NUMBER OF STUDENTS / SEATS FILLED       0.521990\n",
      "NUMBER OF SECTIONS                      0.497414\n",
      "AVERAGE CLASS SIZE                      0.580089\n",
      "SIZE OF SMALLEST CLASS                  0.547800\n",
      "SIZE OF LARGEST CLASS                   0.498482\n",
      "SCHOOLWIDE PUPIL-TEACHER RATIO               NaN\n",
      "schoolyear                                   NaN\n",
      "fl_percent                                   NaN\n",
      "frl_percent                            -0.926402\n",
      "total_enrollment                        0.493900\n",
      "ell_num                                -0.032734\n",
      "ell_percent                            -0.588053\n",
      "sped_num                                0.202543\n",
      "sped_percent                           -0.719101\n",
      "asian_num                               0.652992\n",
      "asian_per                               0.831369\n",
      "black_num                               0.178459\n",
      "black_per                              -0.401030\n",
      "hispanic_num                            0.143639\n",
      "hispanic_per                           -0.639662\n",
      "white_num                               0.706445\n",
      "                                          ...   \n",
      "rr_p                                   -0.085942\n",
      "N_s                                     0.551170\n",
      "N_t                                     0.436806\n",
      "N_p                                     0.628105\n",
      "saf_p_11                               -0.078582\n",
      "com_p_11                               -0.308995\n",
      "eng_p_11                               -0.173111\n",
      "aca_p_11                               -0.171177\n",
      "saf_t_11                                0.275014\n",
      "com_t_11                                0.034989\n",
      "eng_t_10                                     NaN\n",
      "aca_t_11                                0.063366\n",
      "saf_s_11                                0.243283\n",
      "com_s_11                                0.083379\n",
      "eng_s_11                                0.134303\n",
      "aca_s_11                                0.216600\n",
      "saf_tot_11                              0.164197\n",
      "com_tot_11                             -0.068616\n",
      "eng_tot_11                             -0.026598\n",
      "aca_tot_11                              0.029286\n",
      "grade_span_max                               NaN\n",
      "expgrade_span_max                            NaN\n",
      "zip                                     0.002559\n",
      "total_students                          0.544247\n",
      "number_programs                         0.296832\n",
      "priority08                                   NaN\n",
      "priority09                                   NaN\n",
      "priority10                                   NaN\n",
      "lat                                    -0.416402\n",
      "lon                                    -0.424829\n",
      "Name: sat_score, Length: 67, dtype: float64\n"
     ]
    }
   ],
   "source": [
    "correlations = combined.corr()\n",
    "corr_satscore = correlations.corr()[\"sat_score\"]\n",
    "print(corr_satscore)"
   ]
  },
  {
   "cell_type": "markdown",
   "metadata": {},
   "source": [
    "### Plot Correlations"
   ]
  },
  {
   "cell_type": "code",
   "execution_count": 15,
   "metadata": {
    "scrolled": true
   },
   "outputs": [
    {
     "data": {
      "image/png": "[encoded data removed]",
      "text/plain": [
       "<matplotlib.figure.Figure at 0x959d2b0>"
      ]
     },
     "metadata": {},
     "output_type": "display_data"
    }
   ],
   "source": [
    "# Preparing a list of colors from matplotlib\n",
    "colors_list = list(colors._colors_full_map.values())\n",
    "random.shuffle(colors_list, random.random)\n",
    "\n",
    "fig, ax = plt.subplots(figsize=(18, 12))\n",
    "ax.bar(corr_satscore.index, corr_satscore, align='center', color=colors_list)\n",
    "ax.set_xticklabels(corr_satscore.index, rotation=90)\n",
    "ax.set_title(\"Correlation of Features with SAT Score\")\n",
    "\n",
    "plt.show()"
   ]
  },
  {
   "cell_type": "raw",
   "metadata": {},
   "source": [
    "We observe high correlations between SAT score and following factors:\n",
    "\n",
    "o\tNumber of Students / Seats Filled\n",
    "o\tAverage Class Size\n",
    "o\tThe highest grade the school expects to serve eventually\n",
    "o\tNumber of Teacher Respondents (-ve) \n",
    "o\tSAT Critical Reading Average Score\n",
    "o\tFree Lunch Percent\n",
    "o\tNumber of distinct programs available at the school (-ve)\n",
    "\n",
    "It’s obvious to see how the ‘class-size’, ‘number of students’ and the ‘highest grade the school expects’ creates a competitive environment for the students to encourage them working hard to perform better in SAT.\n",
    "\n",
    "The strong positive relationship of ‘SAT Critical Reading Average Score’ with the SAT score shows the impact of effective reading skills on the overall SAT performance. \n",
    "\n",
    "The positive correlation of ‘Free Lunch’ with SAT score tells the success story of government’s welfare program in the area of economically developing neighborhood and low-income immigrant regions. \n",
    "\n",
    "It is interesting to note that higher the number of teachers’ participation in survey for expectation about student’s academia negatively influence the overall student performance in SAT. \n",
    "\n",
    "The negative correlation of ‘Number of distinct programs available at the school’ with SAT score goes in reverse parity with the positive correlation of ‘class-size’ and ‘number of students’ factors above as more program diversity tends to reduce the class-size an number of students per course. "
   ]
  },
  {
   "cell_type": "markdown",
   "metadata": {},
   "source": [
    "### Analyze Effect of Safety on SAT Score"
   ]
  },
  {
   "cell_type": "code",
   "execution_count": 16,
   "metadata": {},
   "outputs": [
    {
     "data": {
      "image/png": "[encoded data removed]",
      "text/plain": [
       "<matplotlib.figure.Figure at 0x9522438>"
      ]
     },
     "metadata": {},
     "output_type": "display_data"
    }
   ],
   "source": [
    "plt.scatter(combined['saf_s_11'], combined['sat_score'])\n",
    "plt.title(\"Correlation Between Safety and SAT Score\")\n",
    "plt.show()"
   ]
  },
  {
   "cell_type": "markdown",
   "metadata": {},
   "source": [
    "There appears to be a positive correlation between safety and SAT score though not so strong. There are some schools that have high safety standard and achieve high SAT score and some schools with low safety standard got low SAT score. Majority of the school from the sample falls between the safety score of 6.0 to 7.5 with an average SAT score below 1500. "
   ]
  },
  {
   "cell_type": "markdown",
   "metadata": {},
   "source": [
    "### Map Safety Score by Districts"
   ]
  },
  {
   "cell_type": "code",
   "execution_count": 17,
   "metadata": {},
   "outputs": [
    {
     "name": "stderr",
     "output_type": "stream",
     "text": [
      "C:\\Users\\Yogi_Ashwast\\Anaconda3\\lib\\site-packages\\mpl_toolkits\\basemap\\__init__.py:1708: MatplotlibDeprecationWarning: The axesPatch function was deprecated in version 2.1. Use Axes.patch instead.\n",
      "  limb = ax.axesPatch\n",
      "C:\\Users\\Yogi_Ashwast\\Anaconda3\\lib\\site-packages\\mpl_toolkits\\basemap\\__init__.py:1711: MatplotlibDeprecationWarning: The axesPatch function was deprecated in version 2.1. Use Axes.patch instead.\n",
      "  if limb is not ax.axesPatch:\n"
     ]
    },
    {
     "data": {
      "image/png": "[encoded data removed]",
      "text/plain": [
       "<matplotlib.figure.Figure at 0x950dc18>"
      ]
     },
     "metadata": {},
     "output_type": "display_data"
    }
   ],
   "source": [
    "m = Basemap(\n",
    "    projection='merc', \n",
    "    llcrnrlat=40.496044, \n",
    "    urcrnrlat=40.915256, \n",
    "    llcrnrlon=-74.255735, \n",
    "    urcrnrlon=-73.700272,\n",
    "    resolution='i'\n",
    ")\n",
    "\n",
    "m.drawmapboundary(fill_color='#85A6D9')\n",
    "m.drawcoastlines(color='#6D5F47', linewidth=.4)\n",
    "m.drawrivers(color='#6D5F47', linewidth=.4)\n",
    "\n",
    "distr = combined.groupby(\"school_dist\").mean()\n",
    "distr.reset_index(inplace=True)\n",
    "\n",
    "longitudes = (distr[\"lon\"]).tolist()\n",
    "latitudes = (distr[\"lat\"]).tolist()\n",
    "m.scatter(longitudes, latitudes, s=20, zorder=2, latlon=True, c=distr[\"saf_s_11\"])\n",
    "plt.show()"
   ]
  },
  {
   "cell_type": "markdown",
   "metadata": {},
   "source": [
    "Brooklyn seems to have better safety score compared to the same for the parts of Manhattan, Queens and Bronx region.  "
   ]
  },
  {
   "cell_type": "markdown",
   "metadata": {},
   "source": [
    "### Evaluate Racial Performance in SAT"
   ]
  },
  {
   "cell_type": "code",
   "execution_count": 18,
   "metadata": {},
   "outputs": [
    {
     "data": {
      "image/png": "[encoded data removed]",
      "text/plain": [
       "<matplotlib.figure.Figure at 0x95127f0>"
      ]
     },
     "metadata": {},
     "output_type": "display_data"
    }
   ],
   "source": [
    "# Listing the races of interest\n",
    "races = [\"white_per\", \"asian_per\", \"black_per\", \"hispanic_per\"]\n",
    "racial_per = combined[races]\n",
    "\n",
    "# Extracting the coorelation value for the shortlisted races\n",
    "value_ht = combined.corr()[\"sat_score\"][races]\n",
    "\n",
    "# Establish plot parameters\n",
    "x_cor = [1,2,3,4]\n",
    "random.shuffle(colors_list, random.random)\n",
    "plt.bar(x_cor, value_ht, width=0.5, align=\"center\", tick_label=races, color=colors_list)\n",
    "plt.xlim(0,5)\n",
    "plt.xticks(rotation=90)\n",
    "plt.title(\"Correlation of Whites, Asians, Blacks and Hispanics with SAT Score\")\n",
    "\n",
    "plt.show()"
   ]
  },
  {
   "cell_type": "markdown",
   "metadata": {},
   "source": [
    "The whites and the Asians are found having strong positive correlation while the Blacks and the Hispanic are found having moderate negative correlation with the SAT score. \n",
    "\n",
    "This is due to the fact that the Hispanic and the Blacks might be coming from the immigrant families. The socio-economic factors, family support and surrounding environment play significant role in overall performance of the students. "
   ]
  },
  {
   "cell_type": "markdown",
   "metadata": {},
   "source": [
    "### Plot Correlation Between Hispanic Proportion & SAT Score"
   ]
  },
  {
   "cell_type": "code",
   "execution_count": 19,
   "metadata": {},
   "outputs": [
    {
     "data": {
      "image/png": "[encoded data removed]",
      "text/plain": [
       "<matplotlib.figure.Figure at 0x9553e48>"
      ]
     },
     "metadata": {},
     "output_type": "display_data"
    }
   ],
   "source": [
    "plt.scatter(combined['hispanic_per'], combined['sat_score'])\n",
    "plt.title(\"Correlation Between Hispanic Percent and SAT Score\")\n",
    "\n",
    "plt.show()"
   ]
  },
  {
   "cell_type": "markdown",
   "metadata": {},
   "source": [
    "There seems to be a moderately strong downward trend with the increase of Hispanic Population. Very small portion of population attains a SAT score of 1800 or more while majority falls under the score of 1500. "
   ]
  },
  {
   "cell_type": "markdown",
   "metadata": {},
   "source": [
    "### Dependency: Low Sat Score & Hispanic Percent"
   ]
  },
  {
   "cell_type": "code",
   "execution_count": 20,
   "metadata": {},
   "outputs": [
    {
     "name": "stdout",
     "output_type": "stream",
     "text": [
      "Correlation Value = -0.41737620009586124\n"
     ]
    },
    {
     "data": {
      "image/png": "[encoded data removed]",
      "text/plain": [
       "<matplotlib.figure.Figure at 0x94debe0>"
      ]
     },
     "metadata": {},
     "output_type": "display_data"
    }
   ],
   "source": [
    "low_sat_high_hisp = combined[combined[\"sat_score\"] < 1400]\n",
    "low_sat_high_hisp = low_sat_high_hisp[low_sat_high_hisp[\"hispanic_per\"] > 40]\n",
    "sat_sc = low_sat_high_hisp[\"sat_score\"].values\n",
    "hisp_per = low_sat_high_hisp[\"hispanic_per\"].values\n",
    "\n",
    "plt.scatter(sat_sc, hisp_per)\n",
    "plt.xlabel(\"Sat Score\")\n",
    "plt.ylabel(\"Hispanic Percentage\")\n",
    "plt.title(\"Correlation Between Hispanic Percent (> 40%) and SAT Score (< 1400)\")\n",
    "print(\"Correlation Value =\", low_sat_high_hisp.corr()[\"sat_score\"][\"hispanic_per\"])"
   ]
  },
  {
   "cell_type": "markdown",
   "metadata": {},
   "source": [
    "Majority of the schools with Hispanic population in the range of 40% - 80% get average SAT score of around 1150. The results become clearly evident when plotted with 40% or more Hispanic Proportion for SAT score of 1400 or less. \n",
    "\n",
    "This is mainly due to the immigrant population along with the socio-economic and demographic factors."
   ]
  },
  {
   "cell_type": "markdown",
   "metadata": {},
   "source": [
    "### List Schools with Hispanic More Than 95%"
   ]
  },
  {
   "cell_type": "code",
   "execution_count": 21,
   "metadata": {},
   "outputs": [
    {
     "name": "stdout",
     "output_type": "stream",
     "text": [
      "['MANHATTAN BRIDGES HIGH SCHOOL'\n",
      " 'WASHINGTON HEIGHTS EXPEDITIONARY LEARNING SCHOOL'\n",
      " 'GREGORIO LUPERON HIGH SCHOOL FOR SCIENCE AND MATHEMATICS'\n",
      " 'ACADEMY FOR LANGUAGE AND TECHNOLOGY'\n",
      " 'INTERNATIONAL SCHOOL FOR LIBERAL ARTS'\n",
      " 'PAN AMERICAN INTERNATIONAL HIGH SCHOOL AT MONROE'\n",
      " 'MULTICULTURAL HIGH SCHOOL' 'PAN AMERICAN INTERNATIONAL HIGH SCHOOL']\n"
     ]
    }
   ],
   "source": [
    "hisp_per_95 = combined[combined[\"hispanic_per\"] > 95]\n",
    "print(hisp_per_95[\"SCHOOL NAME\"].unique())"
   ]
  },
  {
   "cell_type": "markdown",
   "metadata": {},
   "source": [
    "### List  Schools with Hispanic Less Than 10%"
   ]
  },
  {
   "cell_type": "code",
   "execution_count": 22,
   "metadata": {},
   "outputs": [
    {
     "name": "stdout",
     "output_type": "stream",
     "text": [
      "['STUYVESANT HIGH SCHOOL' 'BRONX HIGH SCHOOL OF SCIENCE'\n",
      " 'BROOKLYN TECHNICAL HIGH SCHOOL'\n",
      " 'QUEENS HIGH SCHOOL FOR THE SCIENCES AT YORK COLLEGE'\n",
      " 'STATEN ISLAND TECHNICAL HIGH SCHOOL']\n"
     ]
    }
   ],
   "source": [
    "hisp_10_sat_1800 = combined[combined[\"hispanic_per\"] < 10]\n",
    "hisp_10_sat_1800 = hisp_10_sat_1800[hisp_10_sat_1800[\"sat_score\"] > 1800]\n",
    "print(hisp_10_sat_1800[\"SCHOOL NAME\"].unique())"
   ]
  },
  {
   "cell_type": "markdown",
   "metadata": {},
   "source": [
    "### Enlist Schools in NYC with Low Total Enrollment and Low SAT Score"
   ]
  },
  {
   "cell_type": "code",
   "execution_count": 23,
   "metadata": {},
   "outputs": [
    {
     "data": {
      "text/plain": [
       "91       INTERNATIONAL COMMUNITY HIGH SCHOOL\n",
       "126          BRONX INTERNATIONAL HIGH SCHOOL\n",
       "139    KINGSBRIDGE INTERNATIONAL HIGH SCHOOL\n",
       "141    INTERNATIONAL SCHOOL FOR LIBERAL ARTS\n",
       "179            HIGH SCHOOL OF WORLD CULTURES\n",
       "188       BROOKLYN INTERNATIONAL HIGH SCHOOL\n",
       "225    INTERNATIONAL HIGH SCHOOL AT PROSPECT\n",
       "237               IT TAKES A VILLAGE ACADEMY\n",
       "253                MULTICULTURAL HIGH SCHOOL\n",
       "286    PAN AMERICAN INTERNATIONAL HIGH SCHOO\n",
       "Name: School Name, dtype: object"
      ]
     },
     "execution_count": 23,
     "metadata": {},
     "output_type": "execute_result"
    }
   ],
   "source": [
    "# Find the school with low enrolllment that get low SAT score\n",
    "low_enrollment = combined[(combined['total_enrollment'] < 1000) & (combined['sat_score'] < 1000) ]\n",
    "\n",
    "# Remove rows with invalid school name\n",
    "low_enrollment = low_enrollment[low_enrollment['School Name'] != 0]\n",
    "\n",
    "# Print for verification\n",
    "low_enrollment['School Name']"
   ]
  },
  {
   "cell_type": "markdown",
   "metadata": {},
   "source": [
    "### Plot Correlation Between Sat Score & Gender"
   ]
  },
  {
   "cell_type": "code",
   "execution_count": 24,
   "metadata": {},
   "outputs": [
    {
     "data": {
      "image/png": "[encoded data removed]",
      "text/plain": [
       "<matplotlib.figure.Figure at 0x94c1470>"
      ]
     },
     "metadata": {},
     "output_type": "display_data"
    }
   ],
   "source": [
    "gender = [\"male_per\", \"female_per\"]\n",
    "cor_val = combined.corr()[\"sat_score\"][gender]\n",
    "x_val = [1, 1.0070]\n",
    "random.shuffle(colors_list, random.random)\n",
    "\n",
    "plt.bar(x_val, cor_val, 0.005, align='center', tick_label=gender, color=colors_list)\n",
    "plt.xlim(0.995,1.011)\n",
    "plt.ylabel(\"Correlation Value\")\n",
    "plt.xticks(rotation=90)\n",
    "plt.title(\"Correlation Between Gender and SAT Score\")\n",
    "plt.show()"
   ]
  },
  {
   "cell_type": "markdown",
   "metadata": {},
   "source": [
    "Female show very weak positive and male show very weak negative correlation for SAT score. This shows the relative performance of female and male students – which is more or less the same. "
   ]
  },
  {
   "cell_type": "markdown",
   "metadata": {},
   "source": [
    "### High SAT Score & High Female Percentage"
   ]
  },
  {
   "cell_type": "code",
   "execution_count": 25,
   "metadata": {},
   "outputs": [
    {
     "name": "stdout",
     "output_type": "stream",
     "text": [
      "Schools with SAT > 1500 & Female > 50% =\n",
      " ['NEW EXPLORATIONS INTO SCIENCE, TECHNOLOGY AND MATH HIGH SCHOOL'\n",
      " 'BARD HIGH SCHOOL EARLY COLLEGE'\n",
      " 'PROFESSIONAL PERFORMING ARTS HIGH SCHOOL'\n",
      " 'BARUCH COLLEGE CAMPUS HIGH SCHOOL'\n",
      " 'N.Y.C. LAB SCHOOL FOR COLLABORATIVE STUDIES'\n",
      " 'ELEANOR ROOSEVELT HIGH SCHOOL' 'MILLENNIUM HIGH SCHOOL'\n",
      " 'BEACON HIGH SCHOOL'\n",
      " 'FIORELLO H. LAGUARDIA HIGH SCHOOL OF MUSIC & ART AND PERFORMING ARTS'\n",
      " 'LEON M. GOLDSTEIN HIGH SCHOOL FOR THE SCIENCES'\n",
      " 'BARD HIGH SCHOOL EARLY COLLEGE II' 'TOWNSEND HARRIS HIGH SCHOOL'\n",
      " 'BENJAMIN N. CARDOZO HIGH SCHOOL' \"SCHOLARS' ACADEMY\"\n",
      " 'QUEENS GATEWAY TO HEALTH SCIENCES SECONDARY SCHOOL'\n",
      " 'BACCALAUREATE SCHOOL FOR GLOBAL EDUCATION']\n",
      "\n",
      "Correlation Value between SAT Score and Female Percentage = 0.44951913501293517\n"
     ]
    },
    {
     "data": {
      "image/png": "[encoded data removed]",
      "text/plain": [
       "<matplotlib.figure.Figure at 0x95230b8>"
      ]
     },
     "metadata": {},
     "output_type": "display_data"
    }
   ],
   "source": [
    "high_sat_n_fem = combined[combined[\"female_per\"] > 50]\n",
    "high_sat_n_fem = high_sat_n_fem[high_sat_n_fem[\"sat_score\"] > 1500]\n",
    "print(\"Schools with SAT > 1500 & Female > 50% =\\n\", high_sat_n_fem[\"SCHOOL NAME\"].unique())\n",
    "   \n",
    "# Plot the scatter diagram \n",
    "plt.scatter(combined[\"sat_score\"], combined[\"female_per\"])\n",
    "plt.xlabel(\"Sat Score\")\n",
    "plt.ylabel(\"female_per\")\n",
    "plt.title(\"Correlation Between Female Percent (> 50%) and SAT Score (> 1500)\")\n",
    "\n",
    "print(\"\\nCorrelation Value between SAT Score and Female Percentage =\", high_sat_n_fem.corr()[\"sat_score\"][\"female_per\"])"
   ]
  },
  {
   "cell_type": "markdown",
   "metadata": {},
   "source": [
    "There exists moderately positive correlation between the female proportion and SAT score. While tested for pool of students having more than 50% female proportion and SAT score of greater than 1500, it is observed that around 40% - 65% of the total students attain SAT score in the range of 1000 – 1350. "
   ]
  },
  {
   "cell_type": "markdown",
   "metadata": {},
   "source": [
    "### SAT Score > 1700 & Female Percentage > 60"
   ]
  },
  {
   "cell_type": "code",
   "execution_count": 26,
   "metadata": {},
   "outputs": [
    {
     "name": "stdout",
     "output_type": "stream",
     "text": [
      "Schools with SAT > 1700 & Female > 60% =\n",
      " ['BARD HIGH SCHOOL EARLY COLLEGE' 'ELEANOR ROOSEVELT HIGH SCHOOL'\n",
      " 'BEACON HIGH SCHOOL'\n",
      " 'FIORELLO H. LAGUARDIA HIGH SCHOOL OF MUSIC & ART AND PERFORMING ARTS'\n",
      " 'TOWNSEND HARRIS HIGH SCHOOL']\n"
     ]
    }
   ],
   "source": [
    "fem_60_sat_1700 = combined[(combined[\"sat_score\"] > 1700) & (combined[\"female_per\"] > 60)]\n",
    "print(\"Schools with SAT > 1700 & Female > 60% =\\n\", fem_60_sat_1700[\"SCHOOL NAME\"].unique())"
   ]
  },
  {
   "cell_type": "markdown",
   "metadata": {},
   "source": [
    "### Relationship Between AP Test Takers & SAT Score"
   ]
  },
  {
   "cell_type": "code",
   "execution_count": 27,
   "metadata": {},
   "outputs": [
    {
     "data": {
      "image/png": "[encoded data removed]",
      "text/plain": [
       "<matplotlib.figure.Figure at 0x94d05f8>"
      ]
     },
     "metadata": {},
     "output_type": "display_data"
    },
    {
     "name": "stdout",
     "output_type": "stream",
     "text": [
      "Corrleation value between SAT Score & Percent of AP Test Takers = 0.05717081390766967\n"
     ]
    }
   ],
   "source": [
    "combined[\"ap_per\"] = combined[\"AP Test Takers \"] / combined[\"total_enrollment\"]\n",
    "plt.scatter(combined[\"sat_score\"], combined[\"ap_per\"], color='r')\n",
    "plt.xlabel(\"Sat Score\")\n",
    "plt.ylabel(\"AP Test Taker (% of Total Enrolled)\")\n",
    "plt.title(\"Correlation Between  AP Test Takers and SAT Score\")\n",
    "plt.show()\n",
    "\n",
    "print(\"Corrleation value between SAT Score & Percent of AP Test Takers =\", combined.corr()[\"sat_score\"][\"ap_per\"])"
   ]
  },
  {
   "cell_type": "markdown",
   "metadata": {},
   "source": [
    "No correlation is found between the AP Test Takers and the SAT score. In fact, up to 40% of the total enrollment who took AP Test scored less than 1400 in SAT. There are few percent of students who took AP Test and secured SAT score of 1800 – 2000. \n",
    "\n",
    "The data about students’ performance in AP Test Vs. SAT could give us more insight to further comment about the AP Test results predictive relevance for SAT score."
   ]
  },
  {
   "cell_type": "markdown",
   "metadata": {},
   "source": [
    "### Relationship Between Class Size & SAT Score"
   ]
  },
  {
   "cell_type": "code",
   "execution_count": 28,
   "metadata": {},
   "outputs": [
    {
     "data": {
      "image/png": "[encoded data removed]",
      "text/plain": [
       "<matplotlib.figure.Figure at 0x5938a90>"
      ]
     },
     "metadata": {},
     "output_type": "display_data"
    },
    {
     "name": "stdout",
     "output_type": "stream",
     "text": [
      "Corrleation value between SAT Score & Average Class Size = 0.3810143308095523\n"
     ]
    }
   ],
   "source": [
    "plt.scatter(combined[\"sat_score\"], combined[\"AVERAGE CLASS SIZE\"], color='b')\n",
    "plt.xlabel(\"Sat Score\")\n",
    "plt.ylabel(\"Average Class Size\")\n",
    "plt.title(\"Correlation Between Class Size and SAT Score\")\n",
    "plt.show()\n",
    "\n",
    "print(\"Corrleation value between SAT Score & Average Class Size =\", combined.corr()[\"sat_score\"][\"AVERAGE CLASS SIZE\"])"
   ]
  },
  {
   "cell_type": "markdown",
   "metadata": {},
   "source": [
    "Moderately strong positive correlation has been observed between the class size and SAT score. Students’ SAT score slowly improves as the class size increases from 20 to 30 students. Majority of the students score between 1000 – 1400 irrespective of class size. However, there are few exceptional cases where the students score beyond 1800.  \n",
    "\n",
    "This clearly shows that performance of students in SAT is strongly impacted by his/her class size, higher student-teacher ratio and consequently the dense social environment -which collectively proves to be encouraging for the students.  "
   ]
  },
  {
   "cell_type": "markdown",
   "metadata": {},
   "source": [
    "### Correlation Between Different in Parent, Teacher and Student Responses to Surveys with SAT Score"
   ]
  },
  {
   "cell_type": "markdown",
   "metadata": {},
   "source": [
    "#### Listing and Cleaning Data"
   ]
  },
  {
   "cell_type": "code",
   "execution_count": 29,
   "metadata": {},
   "outputs": [
    {
     "data": {
      "text/plain": [
       "0"
      ]
     },
     "execution_count": 29,
     "metadata": {},
     "output_type": "execute_result"
    }
   ],
   "source": [
    "# short listing the relevant columns \n",
    "surv_col = ['aca_p_11', 'aca_t_11', 'aca_s_11', 'sat_score']\n",
    "response = combined[surv_col]\n",
    "\n",
    "# Cleaning the data with null values\n",
    "response = response.dropna(axis=0, how='any')\n",
    "\n",
    "# Making sure no null is left\n",
    "response.isnull().sum().sum()"
   ]
  },
  {
   "cell_type": "markdown",
   "metadata": {},
   "source": [
    "#### Develop Survey Response Differrence Data"
   ]
  },
  {
   "cell_type": "code",
   "execution_count": 30,
   "metadata": {},
   "outputs": [
    {
     "name": "stdout",
     "output_type": "stream",
     "text": [
      "    aca_p_s  aca_p_t   aca_t_s\n",
      "0  0.900000      1.1  0.200000\n",
      "1  0.300000      0.0  0.300000\n",
      "2  1.018611      0.4  1.418611\n",
      "3  0.300000      0.5  0.200000\n",
      "4  0.700000      1.1  0.400000\n"
     ]
    }
   ],
   "source": [
    "# Developing the survey difference response data\n",
    "response['aca_p_s'] = (response['aca_p_11'] - response['aca_s_11']).abs()\n",
    "response['aca_p_t'] = (response['aca_p_11'] - response['aca_t_11']).abs()\n",
    "response['aca_t_s'] = (response['aca_t_11'] - response['aca_s_11']).abs()\n",
    "\n",
    "# Plot survey response difference\n",
    "resp_cols = ['aca_p_s', 'aca_p_t', 'aca_t_s']\n",
    "\n",
    "# Print for verfication\n",
    "print(response[resp_cols].head())"
   ]
  },
  {
   "cell_type": "markdown",
   "metadata": {},
   "source": [
    "#### Correlation Between Parent-Student Survey Difference Response & SAT Score"
   ]
  },
  {
   "cell_type": "code",
   "execution_count": 31,
   "metadata": {},
   "outputs": [
    {
     "name": "stdout",
     "output_type": "stream",
     "text": [
      "\n",
      "Correlation between Parent-Student Survey Response & SAT Score = -0.2892526616448787\n"
     ]
    },
    {
     "data": {
      "image/png": "[encoded data removed]",
      "text/plain": [
       "<matplotlib.figure.Figure at 0x94a8160>"
      ]
     },
     "metadata": {},
     "output_type": "display_data"
    }
   ],
   "source": [
    "pss_cor0 = response.corr()[resp_cols[0]][\"sat_score\"]\n",
    "print(\"\\nCorrelation between Parent-Student Survey Response & SAT Score =\", \n",
    "      pss_cor0)\n",
    "plt.scatter(response[resp_cols[0]], response[\"sat_score\"])\n",
    "plt.title(\"Correlation for Difference between Parent-Student Survey \\\n",
    "Response and SAT Score\")\n",
    "plt.show()"
   ]
  },
  {
   "cell_type": "markdown",
   "metadata": {},
   "source": [
    "It appears that there is a moderately strong negative correlation between the difference in Parent-Student Survey Response and SAT Score. Hence, more similarity of parents and student’s opinion about the latter’s academic expectation, better would it be reflected in to the higher SAT score. In other words, more the disparity between parents and student’s responses for students’ academic expectation score, lower would be the SAT score.  \n",
    "\n",
    "This clearly indicates that parental involvement in student’s education results into a better SAT performance and vice versa. "
   ]
  },
  {
   "cell_type": "markdown",
   "metadata": {},
   "source": [
    "#### Correlation Between Parent-Teacher Survey Difference Response & SAT Score"
   ]
  },
  {
   "cell_type": "code",
   "execution_count": 32,
   "metadata": {},
   "outputs": [
    {
     "name": "stdout",
     "output_type": "stream",
     "text": [
      "\n",
      "Correlation between Parent-Teacher Survey Response & SAT Score = -0.11002982952218382\n"
     ]
    },
    {
     "data": {
      "image/png": "[encoded data removed]",
      "text/plain": [
       "<matplotlib.figure.Figure at 0x94cfb00>"
      ]
     },
     "metadata": {},
     "output_type": "display_data"
    }
   ],
   "source": [
    "pss_cor1 = response.corr()[resp_cols[1]][\"sat_score\"]\n",
    "print(\"\\nCorrelation between Parent-Teacher Survey Response & SAT Score =\", \n",
    "      pss_cor1)\n",
    "plt.scatter(response[resp_cols[1]], response[\"sat_score\"])\n",
    "plt.title(\"Correlation for Difference between Parent-Teacher Survey \\\n",
    "Response and SAT Score\")\n",
    "plt.show()"
   ]
  },
  {
   "cell_type": "markdown",
   "metadata": {},
   "source": [
    "There exists weak negative relationship between the difference in parents and teachers’ survey response and SAT score. This indicates that difference of opinion between the parents and the teachers over the expectation of student’s academia has moderately reverse impact over student’s performance in SAT. In other words, less the differences between the parental and teacher’s opinion about student’s academic expectation, moderately better would be student’s performance in SAT. "
   ]
  },
  {
   "cell_type": "markdown",
   "metadata": {},
   "source": [
    "#### Correlation Between Teacher-Student Survey Difference Response & SAT Score"
   ]
  },
  {
   "cell_type": "code",
   "execution_count": 33,
   "metadata": {},
   "outputs": [
    {
     "name": "stdout",
     "output_type": "stream",
     "text": [
      "\n",
      "Correlation between Teacher-Student Survey Response & SAT Score = -0.09657508196544748\n"
     ]
    },
    {
     "data": {
      "image/png": "[encoded data removed]",
      "text/plain": [
       "<matplotlib.figure.Figure at 0x94db940>"
      ]
     },
     "metadata": {},
     "output_type": "display_data"
    }
   ],
   "source": [
    "pss_cor2 = response.corr()[resp_cols[2]][\"sat_score\"]\n",
    "print(\"\\nCorrelation between Teacher-Student Survey Response & SAT Score =\", \n",
    "      pss_cor2)                  \n",
    "plt.scatter(response[resp_cols[2]], response[\"sat_score\"])\n",
    "plt.title(\"Correlation for Difference between Teacher-Student Survey \\\n",
    "Response and SAT Score\")\n",
    "plt.show()"
   ]
  },
  {
   "cell_type": "markdown",
   "metadata": {},
   "source": [
    "No correlation is found between the difference in teachers’ and students’ survey response and SAT score. This indicates that difference of opinion between the teachers and students over the academic expectation for the students have no impact over student’s performance in SAT."
   ]
  },
  {
   "cell_type": "markdown",
   "metadata": {},
   "source": [
    "### Find out neighborhoods with Best Schools"
   ]
  },
  {
   "cell_type": "markdown",
   "metadata": {},
   "source": [
    "#### Determine Top 10 Best School in NYC Based On SAT Score"
   ]
  },
  {
   "cell_type": "code",
   "execution_count": 34,
   "metadata": {},
   "outputs": [
    {
     "data": {
      "text/html": [
       "<div>\n",
       "<style scoped>\n",
       "    .dataframe tbody tr th:only-of-type {\n",
       "        vertical-align: middle;\n",
       "    }\n",
       "\n",
       "    .dataframe tbody tr th {\n",
       "        vertical-align: top;\n",
       "    }\n",
       "\n",
       "    .dataframe thead th {\n",
       "        text-align: right;\n",
       "    }\n",
       "</style>\n",
       "<table border=\"1\" class=\"dataframe\">\n",
       "  <thead>\n",
       "    <tr style=\"text-align: right;\">\n",
       "      <th></th>\n",
       "      <th>boro</th>\n",
       "      <th>sat_score</th>\n",
       "      <th>SCHOOL NAME</th>\n",
       "      <th>CSD</th>\n",
       "      <th>zip</th>\n",
       "    </tr>\n",
       "    <tr>\n",
       "      <th>DBN</th>\n",
       "      <th></th>\n",
       "      <th></th>\n",
       "      <th></th>\n",
       "      <th></th>\n",
       "      <th></th>\n",
       "    </tr>\n",
       "  </thead>\n",
       "  <tbody>\n",
       "    <tr>\n",
       "      <th>02M475</th>\n",
       "      <td>Manhattan</td>\n",
       "      <td>2096.0</td>\n",
       "      <td>STUYVESANT HIGH SCHOOL</td>\n",
       "      <td>2</td>\n",
       "      <td>10282</td>\n",
       "    </tr>\n",
       "    <tr>\n",
       "      <th>10X445</th>\n",
       "      <td>Bronx</td>\n",
       "      <td>1969.0</td>\n",
       "      <td>BRONX HIGH SCHOOL OF SCIENCE</td>\n",
       "      <td>10</td>\n",
       "      <td>10468</td>\n",
       "    </tr>\n",
       "    <tr>\n",
       "      <th>31R605</th>\n",
       "      <td>Staten Island</td>\n",
       "      <td>1953.0</td>\n",
       "      <td>STATEN ISLAND TECHNICAL HIGH SCHOOL</td>\n",
       "      <td>31</td>\n",
       "      <td>10306</td>\n",
       "    </tr>\n",
       "    <tr>\n",
       "      <th>10X696</th>\n",
       "      <td>Bronx</td>\n",
       "      <td>1920.0</td>\n",
       "      <td>HIGH SCHOOL OF AMERICAN STUDIES AT LEHMAN COLLEGE</td>\n",
       "      <td>10</td>\n",
       "      <td>10468</td>\n",
       "    </tr>\n",
       "    <tr>\n",
       "      <th>25Q525</th>\n",
       "      <td>Queens</td>\n",
       "      <td>1910.0</td>\n",
       "      <td>TOWNSEND HARRIS HIGH SCHOOL</td>\n",
       "      <td>25</td>\n",
       "      <td>11367</td>\n",
       "    </tr>\n",
       "    <tr>\n",
       "      <th>28Q687</th>\n",
       "      <td>Queens</td>\n",
       "      <td>1868.0</td>\n",
       "      <td>QUEENS HIGH SCHOOL FOR THE SCIENCES AT YORK CO...</td>\n",
       "      <td>28</td>\n",
       "      <td>11433</td>\n",
       "    </tr>\n",
       "    <tr>\n",
       "      <th>01M696</th>\n",
       "      <td>Manhattan</td>\n",
       "      <td>1856.0</td>\n",
       "      <td>BARD HIGH SCHOOL EARLY COLLEGE</td>\n",
       "      <td>1</td>\n",
       "      <td>10002</td>\n",
       "    </tr>\n",
       "    <tr>\n",
       "      <th>05M692</th>\n",
       "      <td>Manhattan</td>\n",
       "      <td>1847.0</td>\n",
       "      <td>HIGH SCHOOL FOR MATHEMATICS, SCIENCE AND ENGIN...</td>\n",
       "      <td>5</td>\n",
       "      <td>10031</td>\n",
       "    </tr>\n",
       "    <tr>\n",
       "      <th>13K430</th>\n",
       "      <td>Brooklyn</td>\n",
       "      <td>1833.0</td>\n",
       "      <td>BROOKLYN TECHNICAL HIGH SCHOOL</td>\n",
       "      <td>13</td>\n",
       "      <td>11217</td>\n",
       "    </tr>\n",
       "    <tr>\n",
       "      <th>02M416</th>\n",
       "      <td>Manhattan</td>\n",
       "      <td>1758.0</td>\n",
       "      <td>ELEANOR ROOSEVELT HIGH SCHOOL</td>\n",
       "      <td>2</td>\n",
       "      <td>10021</td>\n",
       "    </tr>\n",
       "  </tbody>\n",
       "</table>\n",
       "</div>"
      ],
      "text/plain": [
       "                 boro  sat_score  \\\n",
       "DBN                                \n",
       "02M475      Manhattan     2096.0   \n",
       "10X445          Bronx     1969.0   \n",
       "31R605  Staten Island     1953.0   \n",
       "10X696          Bronx     1920.0   \n",
       "25Q525         Queens     1910.0   \n",
       "28Q687         Queens     1868.0   \n",
       "01M696      Manhattan     1856.0   \n",
       "05M692      Manhattan     1847.0   \n",
       "13K430       Brooklyn     1833.0   \n",
       "02M416      Manhattan     1758.0   \n",
       "\n",
       "                                              SCHOOL NAME  CSD    zip  \n",
       "DBN                                                                    \n",
       "02M475                             STUYVESANT HIGH SCHOOL    2  10282  \n",
       "10X445                       BRONX HIGH SCHOOL OF SCIENCE   10  10468  \n",
       "31R605                STATEN ISLAND TECHNICAL HIGH SCHOOL   31  10306  \n",
       "10X696  HIGH SCHOOL OF AMERICAN STUDIES AT LEHMAN COLLEGE   10  10468  \n",
       "25Q525                        TOWNSEND HARRIS HIGH SCHOOL   25  11367  \n",
       "28Q687  QUEENS HIGH SCHOOL FOR THE SCIENCES AT YORK CO...   28  11433  \n",
       "01M696                     BARD HIGH SCHOOL EARLY COLLEGE    1  10002  \n",
       "05M692  HIGH SCHOOL FOR MATHEMATICS, SCIENCE AND ENGIN...    5  10031  \n",
       "13K430                     BROOKLYN TECHNICAL HIGH SCHOOL   13  11217  \n",
       "02M416                      ELEANOR ROOSEVELT HIGH SCHOOL    2  10021  "
      ]
     },
     "execution_count": 34,
     "metadata": {},
     "output_type": "execute_result"
    }
   ],
   "source": [
    "# Find the top 10 school based on the SAT score\n",
    "good_schools = combined[combined['sat_score'] > 1750]\n",
    "good_schools = good_schools.groupby('DBN').agg('max').sort_values(by='sat_score', ascending=False)\n",
    "good_schools[['boro', 'sat_score', 'SCHOOL NAME', 'CSD', 'zip']].head(10)"
   ]
  },
  {
   "cell_type": "markdown",
   "metadata": {},
   "source": [
    "#### Gathering NYC Property Value Information"
   ]
  },
  {
   "cell_type": "code",
   "execution_count": 35,
   "metadata": {},
   "outputs": [
    {
     "name": "stdout",
     "output_type": "stream",
     "text": [
      "(53340, 8)\n"
     ]
    },
    {
     "data": {
      "text/html": [
       "<div>\n",
       "<style scoped>\n",
       "    .dataframe tbody tr th:only-of-type {\n",
       "        vertical-align: middle;\n",
       "    }\n",
       "\n",
       "    .dataframe tbody tr th {\n",
       "        vertical-align: top;\n",
       "    }\n",
       "\n",
       "    .dataframe thead th {\n",
       "        text-align: right;\n",
       "    }\n",
       "</style>\n",
       "<table border=\"1\" class=\"dataframe\">\n",
       "  <thead>\n",
       "    <tr style=\"text-align: right;\">\n",
       "      <th></th>\n",
       "      <th>Borough</th>\n",
       "      <th>CD</th>\n",
       "      <th>SchoolDist</th>\n",
       "      <th>ZipCode</th>\n",
       "      <th>Address</th>\n",
       "      <th>BldgClass</th>\n",
       "      <th>OwnerName</th>\n",
       "      <th>price_sf</th>\n",
       "    </tr>\n",
       "  </thead>\n",
       "  <tbody>\n",
       "    <tr>\n",
       "      <th>0</th>\n",
       "      <td>BK</td>\n",
       "      <td>309</td>\n",
       "      <td>17.0</td>\n",
       "      <td>11213.0</td>\n",
       "      <td>400 UTICA AVENUE</td>\n",
       "      <td>O2</td>\n",
       "      <td>VIS BAN REALTY CORP</td>\n",
       "      <td>50.000000</td>\n",
       "    </tr>\n",
       "    <tr>\n",
       "      <th>1</th>\n",
       "      <td>BK</td>\n",
       "      <td>303</td>\n",
       "      <td>13.0</td>\n",
       "      <td>11205.0</td>\n",
       "      <td>117 SANDFORD STREET</td>\n",
       "      <td>G9</td>\n",
       "      <td>117 SANFORD LLC</td>\n",
       "      <td>50.000000</td>\n",
       "    </tr>\n",
       "    <tr>\n",
       "      <th>2</th>\n",
       "      <td>BK</td>\n",
       "      <td>301</td>\n",
       "      <td>14.0</td>\n",
       "      <td>11222.0</td>\n",
       "      <td>239 INDIA STREET</td>\n",
       "      <td>O2</td>\n",
       "      <td>INDIA STREET CORP.</td>\n",
       "      <td>50.000000</td>\n",
       "    </tr>\n",
       "    <tr>\n",
       "      <th>3</th>\n",
       "      <td>BK</td>\n",
       "      <td>315</td>\n",
       "      <td>21.0</td>\n",
       "      <td>11229.0</td>\n",
       "      <td>1819 EAST 13 STREET</td>\n",
       "      <td>D7</td>\n",
       "      <td>AMK II REALTY LLC</td>\n",
       "      <td>50.000000</td>\n",
       "    </tr>\n",
       "    <tr>\n",
       "      <th>4</th>\n",
       "      <td>BK</td>\n",
       "      <td>313</td>\n",
       "      <td>21.0</td>\n",
       "      <td>11224.0</td>\n",
       "      <td>3740 OCEANIC AVENUE</td>\n",
       "      <td>M9</td>\n",
       "      <td>KOZNITZ CONGREGATION</td>\n",
       "      <td>50.000000</td>\n",
       "    </tr>\n",
       "    <tr>\n",
       "      <th>5</th>\n",
       "      <td>BK</td>\n",
       "      <td>318</td>\n",
       "      <td>22.0</td>\n",
       "      <td>11210.0</td>\n",
       "      <td>1805 FLATBUSH AVENUE</td>\n",
       "      <td>K4</td>\n",
       "      <td>MERVEILLE, GLADYS</td>\n",
       "      <td>50.000000</td>\n",
       "    </tr>\n",
       "    <tr>\n",
       "      <th>6</th>\n",
       "      <td>BK</td>\n",
       "      <td>307</td>\n",
       "      <td>15.0</td>\n",
       "      <td>11215.0</td>\n",
       "      <td>511 7 AVENUE</td>\n",
       "      <td>W1</td>\n",
       "      <td>DCAS/DEPARTMENT OF ED</td>\n",
       "      <td>50.003959</td>\n",
       "    </tr>\n",
       "    <tr>\n",
       "      <th>7</th>\n",
       "      <td>BK</td>\n",
       "      <td>301</td>\n",
       "      <td>14.0</td>\n",
       "      <td>11249.0</td>\n",
       "      <td>58 NORTH 8 STREET</td>\n",
       "      <td>O5</td>\n",
       "      <td>101 KENT ASSOCIATES I</td>\n",
       "      <td>50.008548</td>\n",
       "    </tr>\n",
       "    <tr>\n",
       "      <th>8</th>\n",
       "      <td>BK</td>\n",
       "      <td>303</td>\n",
       "      <td>14.0</td>\n",
       "      <td>11205.0</td>\n",
       "      <td>38 SKILLMAN STREET</td>\n",
       "      <td>R4</td>\n",
       "      <td>NaN</td>\n",
       "      <td>50.015724</td>\n",
       "    </tr>\n",
       "    <tr>\n",
       "      <th>9</th>\n",
       "      <td>BK</td>\n",
       "      <td>312</td>\n",
       "      <td>21.0</td>\n",
       "      <td>11230.0</td>\n",
       "      <td>1613 MC DONALD AVENUE</td>\n",
       "      <td>E1</td>\n",
       "      <td>CB REALTY COMPANY LLC</td>\n",
       "      <td>50.019231</td>\n",
       "    </tr>\n",
       "  </tbody>\n",
       "</table>\n",
       "</div>"
      ],
      "text/plain": [
       "  Borough   CD  SchoolDist  ZipCode                Address BldgClass  \\\n",
       "0      BK  309        17.0  11213.0       400 UTICA AVENUE        O2   \n",
       "1      BK  303        13.0  11205.0    117 SANDFORD STREET        G9   \n",
       "2      BK  301        14.0  11222.0       239 INDIA STREET        O2   \n",
       "3      BK  315        21.0  11229.0    1819 EAST 13 STREET        D7   \n",
       "4      BK  313        21.0  11224.0    3740 OCEANIC AVENUE        M9   \n",
       "5      BK  318        22.0  11210.0   1805 FLATBUSH AVENUE        K4   \n",
       "6      BK  307        15.0  11215.0           511 7 AVENUE        W1   \n",
       "7      BK  301        14.0  11249.0      58 NORTH 8 STREET        O5   \n",
       "8      BK  303        14.0  11205.0     38 SKILLMAN STREET        R4   \n",
       "9      BK  312        21.0  11230.0  1613 MC DONALD AVENUE        E1   \n",
       "\n",
       "               OwnerName   price_sf  \n",
       "0    VIS BAN REALTY CORP  50.000000  \n",
       "1        117 SANFORD LLC  50.000000  \n",
       "2     INDIA STREET CORP.  50.000000  \n",
       "3      AMK II REALTY LLC  50.000000  \n",
       "4   KOZNITZ CONGREGATION  50.000000  \n",
       "5      MERVEILLE, GLADYS  50.000000  \n",
       "6  DCAS/DEPARTMENT OF ED  50.003959  \n",
       "7  101 KENT ASSOCIATES I  50.008548  \n",
       "8                    NaN  50.015724  \n",
       "9  CB REALTY COMPANY LLC  50.019231  "
      ]
     },
     "execution_count": 35,
     "metadata": {},
     "output_type": "execute_result"
    }
   ],
   "source": [
    "cols = ['Borough', 'CD', 'SchoolDist', 'ZipCode', 'BldgClass', 'price_sf', 'Address', 'OwnerName']\n",
    "brk_data = pandas.read_csv(r\"databank/nyc_property/BK2017V11.csv\", usecols = cols)\n",
    "brx_data = pandas.read_csv(r\"databank/nyc_property/BX2017V11.csv\", usecols = cols)\n",
    "mnh_data = pandas.read_csv(r\"databank/nyc_property/MN2017V11.csv\", usecols = cols)\n",
    "qns_data = pandas.read_csv(r\"databank/nyc_property/QN2017V11.csv\", usecols = cols)\n",
    "snr_data = pandas.read_csv(r\"databank/nyc_property/SI2017V11.csv\", usecols = cols)\n",
    "prop_val = pandas.concat([brk_data, brx_data, mnh_data, qns_data, snr_data], axis=0)\n",
    "\n",
    "# Print for verification\n",
    "print(prop_val.shape)\n",
    "prop_val.head(10)"
   ]
  },
  {
   "cell_type": "markdown",
   "metadata": {},
   "source": [
    "### Finding Top 10 Cost Effective Properties for NYC School Neighborhood (2 Deals/School)"
   ]
  },
  {
   "cell_type": "markdown",
   "metadata": {},
   "source": [
    "#### Define functions to seggregate residential class"
   ]
  },
  {
   "cell_type": "code",
   "execution_count": 36,
   "metadata": {},
   "outputs": [],
   "source": [
    "# Filter data frame for select residential building class \n",
    "def usage(char):\n",
    "    usg = ['A', 'B', 'C', 'D', 'R']\n",
    "    if char in usg:\n",
    "        return 1\n",
    "    else:\n",
    "        return 0"
   ]
  },
  {
   "cell_type": "markdown",
   "metadata": {},
   "source": [
    "#### Define Function to Extract Neighborhood  Details"
   ]
  },
  {
   "cell_type": "code",
   "execution_count": 37,
   "metadata": {},
   "outputs": [],
   "source": [
    "# Define function to extract the neighborhood details\n",
    "def find_property(data, df):\n",
    "    sch_dst = data[0]\n",
    "    zip_code = data[1]\n",
    "    df = df[(df['ZipCode'] == zip_code) & (df['SchoolDist'] == sch_dst)]\n",
    "    \n",
    "    count = 0\n",
    "    j = 0\n",
    "    k = 0\n",
    "    m = df.shape[0]\n",
    "    inp_vals = [([0] * 5) for i in range(2)]\n",
    "    \n",
    "    if (m == 0):\n",
    "        inp_vals[j][k] = data[3]\n",
    "        inp_vals[j][k+1] = \"No Resi. Property Found\"\n",
    "        inp_vals[j][k+2] = \"N/A\"\n",
    "        inp_vals[j][k+3] = \"N/A\"\n",
    "        inp_vals[j][k+4] = data[2]\n",
    "        j += 1\n",
    "        k = 0\n",
    "        \n",
    "    elif (m == 1):\n",
    "        i = 0\n",
    "        inp_vals[j][k] = data[3]\n",
    "        inp_vals[j][k+1] = df['Address'].iloc[i]\n",
    "        inp_vals[j][k+2] = df['OwnerName'].iloc[i]\n",
    "        inp_vals[j][k+3] = df['price_sf'].iloc[i]\n",
    "        inp_vals[j][k+4] = data[2]\n",
    "        j += 1\n",
    "        k = 0\n",
    "\n",
    "    else:\n",
    "        for i in range(m):\n",
    "            if (count < 2):\n",
    "                inp_vals[j][k] = data[3]\n",
    "                inp_vals[j][k+1] = df['Address'].iloc[i]\n",
    "                inp_vals[j][k+2] = df['OwnerName'].iloc[i]\n",
    "                inp_vals[j][k+3] = df['price_sf'].iloc[i]\n",
    "                inp_vals[j][k+4] = data[2]\n",
    "                j += 1\n",
    "                k = 0\n",
    "                count += 1\n",
    "            elif (count >= 2):\n",
    "                break\n",
    "    return inp_vals"
   ]
  },
  {
   "cell_type": "markdown",
   "metadata": {},
   "source": [
    "#### Top 10 Cost Effective Neighborhood Properties in NYC for Best Schools (2 choices / school)"
   ]
  },
  {
   "cell_type": "code",
   "execution_count": 38,
   "metadata": {},
   "outputs": [
    {
     "name": "stdout",
     "output_type": "stream",
     "text": [
      "\n",
      "List of Least Expensive Neighborhood With Great Schools: \n",
      "\n"
     ]
    },
    {
     "data": {
      "text/html": [
       "<div>\n",
       "<style scoped>\n",
       "    .dataframe tbody tr th:only-of-type {\n",
       "        vertical-align: middle;\n",
       "    }\n",
       "\n",
       "    .dataframe tbody tr th {\n",
       "        vertical-align: top;\n",
       "    }\n",
       "\n",
       "    .dataframe thead th {\n",
       "        text-align: right;\n",
       "    }\n",
       "</style>\n",
       "<table border=\"1\" class=\"dataframe\">\n",
       "  <thead>\n",
       "    <tr style=\"text-align: right;\">\n",
       "      <th></th>\n",
       "      <th>Borough</th>\n",
       "      <th>Property Address</th>\n",
       "      <th>Owner</th>\n",
       "      <th>Price/Sq Ft</th>\n",
       "      <th>Neighborhood School</th>\n",
       "    </tr>\n",
       "  </thead>\n",
       "  <tbody>\n",
       "    <tr>\n",
       "      <th>0</th>\n",
       "      <td>Manhattan</td>\n",
       "      <td>201 WARREN STREET</td>\n",
       "      <td>TRIBECA NORTH END LLC</td>\n",
       "      <td>112.479</td>\n",
       "      <td>STUYVESANT HIGH SCHOOL</td>\n",
       "    </tr>\n",
       "    <tr>\n",
       "      <th>1</th>\n",
       "      <td>Manhattan</td>\n",
       "      <td>399 CHAMBERS STREET</td>\n",
       "      <td>TRIBECA POINTE LLC</td>\n",
       "      <td>114.277</td>\n",
       "      <td>STUYVESANT HIGH SCHOOL</td>\n",
       "    </tr>\n",
       "    <tr>\n",
       "      <th>2</th>\n",
       "      <td>Bronx</td>\n",
       "      <td>2450 DAVIDSON AVENUE</td>\n",
       "      <td>2460 DAVIDSON REALTY</td>\n",
       "      <td>51.4895</td>\n",
       "      <td>BRONX HIGH SCHOOL OF SCIENCE</td>\n",
       "    </tr>\n",
       "    <tr>\n",
       "      <th>3</th>\n",
       "      <td>Bronx</td>\n",
       "      <td>2776 SEDGWICK AVENUE</td>\n",
       "      <td>TINEO, JOSE RAMON</td>\n",
       "      <td>51.8865</td>\n",
       "      <td>BRONX HIGH SCHOOL OF SCIENCE</td>\n",
       "    </tr>\n",
       "    <tr>\n",
       "      <th>4</th>\n",
       "      <td>Staten Island</td>\n",
       "      <td>10 PEEL PLACE</td>\n",
       "      <td>ANN SOLAZZO</td>\n",
       "      <td>24.215</td>\n",
       "      <td>STATEN ISLAND TECHNICAL HIGH SCHOOL</td>\n",
       "    </tr>\n",
       "    <tr>\n",
       "      <th>5</th>\n",
       "      <td>Staten Island</td>\n",
       "      <td>41 PETER AVENUE</td>\n",
       "      <td>SCAROLA, GREGG M</td>\n",
       "      <td>24.2163</td>\n",
       "      <td>STATEN ISLAND TECHNICAL HIGH SCHOOL</td>\n",
       "    </tr>\n",
       "    <tr>\n",
       "      <th>6</th>\n",
       "      <td>Bronx</td>\n",
       "      <td>2450 DAVIDSON AVENUE</td>\n",
       "      <td>2460 DAVIDSON REALTY</td>\n",
       "      <td>51.4895</td>\n",
       "      <td>HIGH SCHOOL OF AMERICAN STUDIES AT LEHMAN COLLEGE</td>\n",
       "    </tr>\n",
       "    <tr>\n",
       "      <th>7</th>\n",
       "      <td>Bronx</td>\n",
       "      <td>2776 SEDGWICK AVENUE</td>\n",
       "      <td>TINEO, JOSE RAMON</td>\n",
       "      <td>51.8865</td>\n",
       "      <td>HIGH SCHOOL OF AMERICAN STUDIES AT LEHMAN COLLEGE</td>\n",
       "    </tr>\n",
       "    <tr>\n",
       "      <th>8</th>\n",
       "      <td>Queens</td>\n",
       "      <td>152-11 UNION TURNPIKE</td>\n",
       "      <td>ST. JOHN'S UNIVERSITY</td>\n",
       "      <td>50.8769</td>\n",
       "      <td>TOWNSEND HARRIS HIGH SCHOOL</td>\n",
       "    </tr>\n",
       "    <tr>\n",
       "      <th>9</th>\n",
       "      <td>Queens</td>\n",
       "      <td>154-27 64 AVENUE</td>\n",
       "      <td>WISCHHUSEN RICHARD</td>\n",
       "      <td>66.6693</td>\n",
       "      <td>TOWNSEND HARRIS HIGH SCHOOL</td>\n",
       "    </tr>\n",
       "    <tr>\n",
       "      <th>10</th>\n",
       "      <td>Queens</td>\n",
       "      <td>162-25 112 ROAD</td>\n",
       "      <td>CALVARY GRANDPARENT R</td>\n",
       "      <td>59.1462</td>\n",
       "      <td>QUEENS HIGH SCHOOL FOR THE SCIENCES AT YORK CO...</td>\n",
       "    </tr>\n",
       "    <tr>\n",
       "      <th>11</th>\n",
       "      <td>Manhattan</td>\n",
       "      <td>85 STANTON STREET</td>\n",
       "      <td>85 OWNERS CORP</td>\n",
       "      <td>97.2278</td>\n",
       "      <td>BARD HIGH SCHOOL EARLY COLLEGE</td>\n",
       "    </tr>\n",
       "    <tr>\n",
       "      <th>12</th>\n",
       "      <td>Manhattan</td>\n",
       "      <td>138 LUDLOW STREET</td>\n",
       "      <td>TRIPUKA REALTY CORP</td>\n",
       "      <td>97.401</td>\n",
       "      <td>BARD HIGH SCHOOL EARLY COLLEGE</td>\n",
       "    </tr>\n",
       "    <tr>\n",
       "      <th>13</th>\n",
       "      <td>Manhattan</td>\n",
       "      <td>No Resi. Property Found</td>\n",
       "      <td>N/A</td>\n",
       "      <td>N/A</td>\n",
       "      <td>HIGH SCHOOL FOR MATHEMATICS, SCIENCE AND ENGIN...</td>\n",
       "    </tr>\n",
       "    <tr>\n",
       "      <th>14</th>\n",
       "      <td>Brooklyn</td>\n",
       "      <td>220 LINCOLN PLACE</td>\n",
       "      <td>220 LINCOLN LLC</td>\n",
       "      <td>50.0592</td>\n",
       "      <td>BROOKLYN TECHNICAL HIGH SCHOOL</td>\n",
       "    </tr>\n",
       "    <tr>\n",
       "      <th>15</th>\n",
       "      <td>Brooklyn</td>\n",
       "      <td>233 BERKELEY PLACE</td>\n",
       "      <td>233 BERKELEY PLACE LL</td>\n",
       "      <td>50.2336</td>\n",
       "      <td>BROOKLYN TECHNICAL HIGH SCHOOL</td>\n",
       "    </tr>\n",
       "    <tr>\n",
       "      <th>16</th>\n",
       "      <td>Manhattan</td>\n",
       "      <td>230 EAST 71 STREET</td>\n",
       "      <td>230 OWNERS CORP</td>\n",
       "      <td>97.0392</td>\n",
       "      <td>ELEANOR ROOSEVELT HIGH SCHOOL</td>\n",
       "    </tr>\n",
       "    <tr>\n",
       "      <th>17</th>\n",
       "      <td>Manhattan</td>\n",
       "      <td>305 EAST 75 STREET</td>\n",
       "      <td>GRUMA REALTY CORP</td>\n",
       "      <td>97.0882</td>\n",
       "      <td>ELEANOR ROOSEVELT HIGH SCHOOL</td>\n",
       "    </tr>\n",
       "  </tbody>\n",
       "</table>\n",
       "</div>"
      ],
      "text/plain": [
       "          Borough         Property Address                  Owner Price/Sq Ft  \\\n",
       "0       Manhattan        201 WARREN STREET  TRIBECA NORTH END LLC     112.479   \n",
       "1       Manhattan      399 CHAMBERS STREET     TRIBECA POINTE LLC     114.277   \n",
       "2           Bronx     2450 DAVIDSON AVENUE   2460 DAVIDSON REALTY     51.4895   \n",
       "3           Bronx     2776 SEDGWICK AVENUE      TINEO, JOSE RAMON     51.8865   \n",
       "4   Staten Island            10 PEEL PLACE            ANN SOLAZZO      24.215   \n",
       "5   Staten Island          41 PETER AVENUE       SCAROLA, GREGG M     24.2163   \n",
       "6           Bronx     2450 DAVIDSON AVENUE   2460 DAVIDSON REALTY     51.4895   \n",
       "7           Bronx     2776 SEDGWICK AVENUE      TINEO, JOSE RAMON     51.8865   \n",
       "8          Queens    152-11 UNION TURNPIKE  ST. JOHN'S UNIVERSITY     50.8769   \n",
       "9          Queens         154-27 64 AVENUE     WISCHHUSEN RICHARD     66.6693   \n",
       "10         Queens          162-25 112 ROAD  CALVARY GRANDPARENT R     59.1462   \n",
       "11      Manhattan        85 STANTON STREET         85 OWNERS CORP     97.2278   \n",
       "12      Manhattan        138 LUDLOW STREET    TRIPUKA REALTY CORP      97.401   \n",
       "13      Manhattan  No Resi. Property Found                    N/A         N/A   \n",
       "14       Brooklyn        220 LINCOLN PLACE        220 LINCOLN LLC     50.0592   \n",
       "15       Brooklyn       233 BERKELEY PLACE  233 BERKELEY PLACE LL     50.2336   \n",
       "16      Manhattan       230 EAST 71 STREET        230 OWNERS CORP     97.0392   \n",
       "17      Manhattan       305 EAST 75 STREET      GRUMA REALTY CORP     97.0882   \n",
       "\n",
       "                                  Neighborhood School  \n",
       "0                              STUYVESANT HIGH SCHOOL  \n",
       "1                              STUYVESANT HIGH SCHOOL  \n",
       "2                        BRONX HIGH SCHOOL OF SCIENCE  \n",
       "3                        BRONX HIGH SCHOOL OF SCIENCE  \n",
       "4                 STATEN ISLAND TECHNICAL HIGH SCHOOL  \n",
       "5                 STATEN ISLAND TECHNICAL HIGH SCHOOL  \n",
       "6   HIGH SCHOOL OF AMERICAN STUDIES AT LEHMAN COLLEGE  \n",
       "7   HIGH SCHOOL OF AMERICAN STUDIES AT LEHMAN COLLEGE  \n",
       "8                         TOWNSEND HARRIS HIGH SCHOOL  \n",
       "9                         TOWNSEND HARRIS HIGH SCHOOL  \n",
       "10  QUEENS HIGH SCHOOL FOR THE SCIENCES AT YORK CO...  \n",
       "11                     BARD HIGH SCHOOL EARLY COLLEGE  \n",
       "12                     BARD HIGH SCHOOL EARLY COLLEGE  \n",
       "13  HIGH SCHOOL FOR MATHEMATICS, SCIENCE AND ENGIN...  \n",
       "14                     BROOKLYN TECHNICAL HIGH SCHOOL  \n",
       "15                     BROOKLYN TECHNICAL HIGH SCHOOL  \n",
       "16                      ELEANOR ROOSEVELT HIGH SCHOOL  \n",
       "17                      ELEANOR ROOSEVELT HIGH SCHOOL  "
      ]
     },
     "execution_count": 38,
     "metadata": {},
     "output_type": "execute_result"
    }
   ],
   "source": [
    "# Set up the data frame per ascending property prices, building class and location zip code\n",
    "sorted_property = prop_val.sort_values(by=['price_sf', 'BldgClass', 'ZipCode'])\n",
    "sorted_property['ZipCode'] = pandas.to_numeric(sorted_property['ZipCode'], errors = 'coerce')\n",
    "\n",
    "# Seggregate data based on the building class for residential properties\n",
    "sorted_property['Usage'] = sorted_property['BldgClass'].str[:1].apply(usage)\n",
    "sorted_property = sorted_property[sorted_property['Usage'] == 1]\n",
    "\n",
    "# Removing null values from the data frame\n",
    "sorted_property = sorted_property.dropna()\n",
    "\n",
    "# Extracting Top 10 Best Neighbordhood Data\n",
    "neighbor = [([0]*5) for i in range(20)]\n",
    "j = 0\n",
    "for i in range(10):\n",
    "    first_row, second_row = find_property(good_schools[['CSD', 'zip', 'SCHOOL NAME', 'boro']].iloc[i], sorted_property)\n",
    "    for k in range(5):\n",
    "        neighbor[j][k] = first_row[k]\n",
    "        neighbor[j+1][k] = second_row[k]\n",
    "    j += 2\n",
    "\n",
    "# Set up neighbor data frame for output\n",
    "cols = ['Borough', 'Property Address', 'Owner', 'Price/Sq Ft', 'Neighborhood School']\n",
    "great_deal = pandas.DataFrame(columns=cols)\n",
    "\n",
    "# Feed the final output in the data frame\n",
    "for i in range(len(neighbor)):\n",
    "        great_deal[cols[0]] = ([x[0] for x in neighbor])\n",
    "        great_deal[cols[1]] = ([x[1] for x in neighbor])\n",
    "        great_deal[cols[2]] = ([x[2] for x in neighbor])\n",
    "        great_deal[cols[3]] = ([x[3] for x in neighbor])\n",
    "        great_deal[cols[4]] = ([x[4] for x in neighbor])\n",
    "\n",
    "# Removing data with missing values and resetting the index\n",
    "great_deal = great_deal[great_deal['Borough'] != 0]\n",
    "great_deal.reset_index(inplace=True, drop=True)\n",
    "\n",
    "# Print the final results results\n",
    "print(\"\\nList of Least Expensive Neighborhood With Great Schools: \\n\")\n",
    "great_deal"
   ]
  },
  {
   "cell_type": "markdown",
   "metadata": {},
   "source": [
    "### Conclusion"
   ]
  },
  {
   "cell_type": "raw",
   "metadata": {},
   "source": [
    "•\tWe are able to know various critical factors that do/do not affect students’ performance in SAT examination. Based on this info, we can verify and validate how fare the current SAT system is for the diverse demographics like NYC. In case we found any flaws in the SAT system for unfair testing performances, we can get better idea about the causes to focus on and fix the system.\n",
    "\n",
    "•\tWe understand the impact of various demographic, socio-economic, and current credit and grading system related factors over the performance of students in SAT examination. This helps us to determine and verify how this test maintains balance amongst these factors for overall fairness of test within the widely diverse community. \n",
    "\n",
    "•\tWe are able to determine top 10 best schools based on their average SAT score.\n",
    "\n",
    "•\tWe shortlist the least expensive but situated with the top 10 best school neighborhood regions.\n",
    "\n",
    "•\tWe could identify the regions of NYC neighborhood where schools do not perform well and understand whether or not there exists any ethnic diversity [to consider] for policy improvement. \n",
    "\n",
    "•\tWe learn the impact of similarity and disparity of students/teachers/parents’ opinion towards student’s academia over the SAT performance. This highlights the roles and responsibilities of various players of the game and its relative significance for the final outcome.\n",
    "\n",
    "•\tBased on the correlations and its severity on students’ SAT score, we can mention that SAT is reasonably fair for the diverse NYC demographics. "
   ]
  }
 ],
 "metadata": {
  "celltoolbar": "Raw Cell Format",
  "kernelspec": {
   "display_name": "Python 3",
   "language": "python",
   "name": "python3"
  },
  "language_info": {
   "codemirror_mode": {
    "name": "ipython",
    "version": 3
   },
   "file_extension": ".py",
   "mimetype": "text/x-python",
   "name": "python",
   "nbconvert_exporter": "python",
   "pygments_lexer": "ipython3",
   "version": "3.6.4"
  }
 },
 "nbformat": 4,
 "nbformat_minor": 1
}
